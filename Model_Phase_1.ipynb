{
 "cells": [
  {
   "attachments": {},
   "cell_type": "markdown",
   "metadata": {},
   "source": [
    "# Exercise: Train and Run Your First Model\n",
    "\n",
    "We've learned that models are computer code that processes information to make a prediction or a decision. Here, we'll train a model to guess a comfortable boot size for a dog, based on the size of the harness that fits them.\n",
    "\n",
    "In the examples below, there is no need to edit any code. Try to read it, understand it, then press the run button to run it. As always with these notebooks, it is vitally important that these code blocks are run in the correct order, and nothing is missed.\n",
    "\n",
    "> **Note**: If you've never used the Jupyter Notebooks environment before, there are a few things you should be aware of:\n",
    "> \n",
    "> - Notebooks are made up of *cells*. Some cells (like this one) contain *markdown* text, while others (like the one beneath this one) contain code.\n",
    "> - You can run each code cell by using the **&#9658; Run** button. the **&#9658; Run** button will show up when you hover over the cell.\n",
    "> - The output from each code cell will be displayed immediately below the cell.\n",
    "> - Even though the code cells can be run individually, some variables used in the code are global to the notebook. That means that you should run all of the code cells <u>**in order**</u>. There may be dependencies between code cells, so if you skip a cell, subsequent cells might not run correctly.\n",
    "\n",
    "## Preparing data\n",
    "\n",
    "The first thing we do with a model is load data. We'll cover this in more detail in a later exercise. For now, we'll just write our data directly in our code. Review and run the following code to get started:\n"
   ]
  },
  {
   "cell_type": "code",
   "execution_count": 1,
   "metadata": {},
   "outputs": [
    {
     "name": "stderr",
     "output_type": "stream",
     "text": [
      "'wget' is not recognized as an internal or external command,\n",
      "operable program or batch file.\n",
      "'wget' is not recognized as an internal or external command,\n",
      "operable program or batch file.\n"
     ]
    },
    {
     "name": "stdout",
     "output_type": "stream",
     "text": [
      "Requirement already satisfied: statsmodels in c:\\users\\administrator\\appdata\\local\\programs\\python\\python311\\lib\\site-packages (0.14.0)\n",
      "Requirement already satisfied: numpy>=1.18 in c:\\users\\administrator\\appdata\\local\\programs\\python\\python311\\lib\\site-packages (from statsmodels) (1.24.2)\n",
      "Requirement already satisfied: scipy!=1.9.2,>=1.4 in c:\\users\\administrator\\appdata\\local\\programs\\python\\python311\\lib\\site-packages (from statsmodels) (1.11.1)\n",
      "Requirement already satisfied: pandas>=1.0 in c:\\users\\administrator\\appdata\\local\\programs\\python\\python311\\lib\\site-packages (from statsmodels) (1.5.3)\n",
      "Requirement already satisfied: patsy>=0.5.2 in c:\\users\\administrator\\appdata\\local\\programs\\python\\python311\\lib\\site-packages (from statsmodels) (0.5.3)\n",
      "Requirement already satisfied: packaging>=21.3 in c:\\users\\administrator\\appdata\\roaming\\python\\python311\\site-packages (from statsmodels) (23.1)\n",
      "Requirement already satisfied: python-dateutil>=2.8.1 in c:\\users\\administrator\\appdata\\local\\programs\\python\\python311\\lib\\site-packages (from pandas>=1.0->statsmodels) (2.8.2)\n",
      "Requirement already satisfied: pytz>=2020.1 in c:\\users\\administrator\\appdata\\local\\programs\\python\\python311\\lib\\site-packages (from pandas>=1.0->statsmodels) (2022.7.1)\n",
      "Requirement already satisfied: six in c:\\users\\administrator\\appdata\\local\\programs\\python\\python311\\lib\\site-packages (from patsy>=0.5.2->statsmodels) (1.16.0)\n"
     ]
    },
    {
     "name": "stderr",
     "output_type": "stream",
     "text": [
      "\n",
      "[notice] A new release of pip is available: 23.2 -> 23.2.1\n",
      "[notice] To update, run: python.exe -m pip install --upgrade pip\n"
     ]
    },
    {
     "data": {
      "text/html": [
       "<div>\n",
       "<style scoped>\n",
       "    .dataframe tbody tr th:only-of-type {\n",
       "        vertical-align: middle;\n",
       "    }\n",
       "\n",
       "    .dataframe tbody tr th {\n",
       "        vertical-align: top;\n",
       "    }\n",
       "\n",
       "    .dataframe thead th {\n",
       "        text-align: right;\n",
       "    }\n",
       "</style>\n",
       "<table border=\"1\" class=\"dataframe\">\n",
       "  <thead>\n",
       "    <tr style=\"text-align: right;\">\n",
       "      <th></th>\n",
       "      <th>boot_size</th>\n",
       "      <th>harness_size</th>\n",
       "    </tr>\n",
       "  </thead>\n",
       "  <tbody>\n",
       "    <tr>\n",
       "      <th>0</th>\n",
       "      <td>39</td>\n",
       "      <td>58</td>\n",
       "    </tr>\n",
       "    <tr>\n",
       "      <th>1</th>\n",
       "      <td>38</td>\n",
       "      <td>58</td>\n",
       "    </tr>\n",
       "    <tr>\n",
       "      <th>2</th>\n",
       "      <td>37</td>\n",
       "      <td>52</td>\n",
       "    </tr>\n",
       "    <tr>\n",
       "      <th>3</th>\n",
       "      <td>39</td>\n",
       "      <td>58</td>\n",
       "    </tr>\n",
       "    <tr>\n",
       "      <th>4</th>\n",
       "      <td>38</td>\n",
       "      <td>57</td>\n",
       "    </tr>\n",
       "    <tr>\n",
       "      <th>5</th>\n",
       "      <td>35</td>\n",
       "      <td>52</td>\n",
       "    </tr>\n",
       "    <tr>\n",
       "      <th>6</th>\n",
       "      <td>37</td>\n",
       "      <td>55</td>\n",
       "    </tr>\n",
       "    <tr>\n",
       "      <th>7</th>\n",
       "      <td>36</td>\n",
       "      <td>53</td>\n",
       "    </tr>\n",
       "    <tr>\n",
       "      <th>8</th>\n",
       "      <td>35</td>\n",
       "      <td>49</td>\n",
       "    </tr>\n",
       "    <tr>\n",
       "      <th>9</th>\n",
       "      <td>40</td>\n",
       "      <td>54</td>\n",
       "    </tr>\n",
       "    <tr>\n",
       "      <th>10</th>\n",
       "      <td>40</td>\n",
       "      <td>59</td>\n",
       "    </tr>\n",
       "    <tr>\n",
       "      <th>11</th>\n",
       "      <td>36</td>\n",
       "      <td>56</td>\n",
       "    </tr>\n",
       "    <tr>\n",
       "      <th>12</th>\n",
       "      <td>38</td>\n",
       "      <td>53</td>\n",
       "    </tr>\n",
       "    <tr>\n",
       "      <th>13</th>\n",
       "      <td>39</td>\n",
       "      <td>58</td>\n",
       "    </tr>\n",
       "    <tr>\n",
       "      <th>14</th>\n",
       "      <td>42</td>\n",
       "      <td>57</td>\n",
       "    </tr>\n",
       "    <tr>\n",
       "      <th>15</th>\n",
       "      <td>42</td>\n",
       "      <td>58</td>\n",
       "    </tr>\n",
       "    <tr>\n",
       "      <th>16</th>\n",
       "      <td>36</td>\n",
       "      <td>56</td>\n",
       "    </tr>\n",
       "    <tr>\n",
       "      <th>17</th>\n",
       "      <td>36</td>\n",
       "      <td>51</td>\n",
       "    </tr>\n",
       "    <tr>\n",
       "      <th>18</th>\n",
       "      <td>35</td>\n",
       "      <td>50</td>\n",
       "    </tr>\n",
       "    <tr>\n",
       "      <th>19</th>\n",
       "      <td>41</td>\n",
       "      <td>59</td>\n",
       "    </tr>\n",
       "    <tr>\n",
       "      <th>20</th>\n",
       "      <td>42</td>\n",
       "      <td>59</td>\n",
       "    </tr>\n",
       "    <tr>\n",
       "      <th>21</th>\n",
       "      <td>38</td>\n",
       "      <td>59</td>\n",
       "    </tr>\n",
       "    <tr>\n",
       "      <th>22</th>\n",
       "      <td>37</td>\n",
       "      <td>55</td>\n",
       "    </tr>\n",
       "    <tr>\n",
       "      <th>23</th>\n",
       "      <td>35</td>\n",
       "      <td>50</td>\n",
       "    </tr>\n",
       "    <tr>\n",
       "      <th>24</th>\n",
       "      <td>40</td>\n",
       "      <td>55</td>\n",
       "    </tr>\n",
       "    <tr>\n",
       "      <th>25</th>\n",
       "      <td>36</td>\n",
       "      <td>52</td>\n",
       "    </tr>\n",
       "    <tr>\n",
       "      <th>26</th>\n",
       "      <td>35</td>\n",
       "      <td>53</td>\n",
       "    </tr>\n",
       "    <tr>\n",
       "      <th>27</th>\n",
       "      <td>39</td>\n",
       "      <td>54</td>\n",
       "    </tr>\n",
       "    <tr>\n",
       "      <th>28</th>\n",
       "      <td>41</td>\n",
       "      <td>61</td>\n",
       "    </tr>\n",
       "    <tr>\n",
       "      <th>29</th>\n",
       "      <td>37</td>\n",
       "      <td>56</td>\n",
       "    </tr>\n",
       "    <tr>\n",
       "      <th>30</th>\n",
       "      <td>35</td>\n",
       "      <td>55</td>\n",
       "    </tr>\n",
       "    <tr>\n",
       "      <th>31</th>\n",
       "      <td>41</td>\n",
       "      <td>60</td>\n",
       "    </tr>\n",
       "    <tr>\n",
       "      <th>32</th>\n",
       "      <td>39</td>\n",
       "      <td>57</td>\n",
       "    </tr>\n",
       "    <tr>\n",
       "      <th>33</th>\n",
       "      <td>41</td>\n",
       "      <td>56</td>\n",
       "    </tr>\n",
       "    <tr>\n",
       "      <th>34</th>\n",
       "      <td>42</td>\n",
       "      <td>61</td>\n",
       "    </tr>\n",
       "    <tr>\n",
       "      <th>35</th>\n",
       "      <td>42</td>\n",
       "      <td>58</td>\n",
       "    </tr>\n",
       "    <tr>\n",
       "      <th>36</th>\n",
       "      <td>36</td>\n",
       "      <td>53</td>\n",
       "    </tr>\n",
       "    <tr>\n",
       "      <th>37</th>\n",
       "      <td>37</td>\n",
       "      <td>57</td>\n",
       "    </tr>\n",
       "    <tr>\n",
       "      <th>38</th>\n",
       "      <td>37</td>\n",
       "      <td>57</td>\n",
       "    </tr>\n",
       "    <tr>\n",
       "      <th>39</th>\n",
       "      <td>39</td>\n",
       "      <td>55</td>\n",
       "    </tr>\n",
       "    <tr>\n",
       "      <th>40</th>\n",
       "      <td>42</td>\n",
       "      <td>60</td>\n",
       "    </tr>\n",
       "    <tr>\n",
       "      <th>41</th>\n",
       "      <td>35</td>\n",
       "      <td>51</td>\n",
       "    </tr>\n",
       "    <tr>\n",
       "      <th>42</th>\n",
       "      <td>36</td>\n",
       "      <td>52</td>\n",
       "    </tr>\n",
       "    <tr>\n",
       "      <th>43</th>\n",
       "      <td>41</td>\n",
       "      <td>56</td>\n",
       "    </tr>\n",
       "    <tr>\n",
       "      <th>44</th>\n",
       "      <td>41</td>\n",
       "      <td>55</td>\n",
       "    </tr>\n",
       "    <tr>\n",
       "      <th>45</th>\n",
       "      <td>41</td>\n",
       "      <td>57</td>\n",
       "    </tr>\n",
       "    <tr>\n",
       "      <th>46</th>\n",
       "      <td>39</td>\n",
       "      <td>58</td>\n",
       "    </tr>\n",
       "    <tr>\n",
       "      <th>47</th>\n",
       "      <td>39</td>\n",
       "      <td>57</td>\n",
       "    </tr>\n",
       "    <tr>\n",
       "      <th>48</th>\n",
       "      <td>35</td>\n",
       "      <td>51</td>\n",
       "    </tr>\n",
       "    <tr>\n",
       "      <th>49</th>\n",
       "      <td>39</td>\n",
       "      <td>59</td>\n",
       "    </tr>\n",
       "  </tbody>\n",
       "</table>\n",
       "</div>"
      ],
      "text/plain": [
       "    boot_size  harness_size\n",
       "0          39            58\n",
       "1          38            58\n",
       "2          37            52\n",
       "3          39            58\n",
       "4          38            57\n",
       "5          35            52\n",
       "6          37            55\n",
       "7          36            53\n",
       "8          35            49\n",
       "9          40            54\n",
       "10         40            59\n",
       "11         36            56\n",
       "12         38            53\n",
       "13         39            58\n",
       "14         42            57\n",
       "15         42            58\n",
       "16         36            56\n",
       "17         36            51\n",
       "18         35            50\n",
       "19         41            59\n",
       "20         42            59\n",
       "21         38            59\n",
       "22         37            55\n",
       "23         35            50\n",
       "24         40            55\n",
       "25         36            52\n",
       "26         35            53\n",
       "27         39            54\n",
       "28         41            61\n",
       "29         37            56\n",
       "30         35            55\n",
       "31         41            60\n",
       "32         39            57\n",
       "33         41            56\n",
       "34         42            61\n",
       "35         42            58\n",
       "36         36            53\n",
       "37         37            57\n",
       "38         37            57\n",
       "39         39            55\n",
       "40         42            60\n",
       "41         35            51\n",
       "42         36            52\n",
       "43         41            56\n",
       "44         41            55\n",
       "45         41            57\n",
       "46         39            58\n",
       "47         39            57\n",
       "48         35            51\n",
       "49         39            59"
      ]
     },
     "execution_count": 1,
     "metadata": {},
     "output_type": "execute_result"
    }
   ],
   "source": [
    "import pandas\n",
    "!wget https://raw.githubusercontent.com/MicrosoftDocs/mslearn-introduction-to-machine-learning/main/graphing.py\n",
    "!wget https://raw.githubusercontent.com/MicrosoftDocs/mslearn-introduction-to-machine-learning/main/Data/doggy-boot-harness.csv\n",
    "!pip install statsmodels\n",
    "\n",
    "\n",
    "# Make a dictionary of data for boot sizes\n",
    "# and harness size in cm\n",
    "data = {\n",
    "    'boot_size' : [ 39, 38, 37, 39, 38, 35, 37, 36, 35, 40, \n",
    "                    40, 36, 38, 39, 42, 42, 36, 36, 35, 41, \n",
    "                    42, 38, 37, 35, 40, 36, 35, 39, 41, 37, \n",
    "                    35, 41, 39, 41, 42, 42, 36, 37, 37, 39,\n",
    "                    42, 35, 36, 41, 41, 41, 39, 39, 35, 39\n",
    " ],\n",
    "    'harness_size': [ 58, 58, 52, 58, 57, 52, 55, 53, 49, 54,\n",
    "                59, 56, 53, 58, 57, 58, 56, 51, 50, 59,\n",
    "                59, 59, 55, 50, 55, 52, 53, 54, 61, 56,\n",
    "                55, 60, 57, 56, 61, 58, 53, 57, 57, 55,\n",
    "                60, 51, 52, 56, 55, 57, 58, 57, 51, 59\n",
    "                ]\n",
    "}\n",
    "\n",
    "# Convert it into a table using pandas\n",
    "dataset = pandas.DataFrame(data)\n",
    "\n",
    "# Print the data\n",
    "# In normal python we would write\n",
    "# print(dataset)\n",
    "# but in Jupyter notebooks, if we simple write the name\n",
    "# of the variable and it is printed nicely \n",
    "dataset"
   ]
  },
  {
   "attachments": {},
   "cell_type": "markdown",
   "metadata": {},
   "source": [
    "As you can see, we have the sizes of boots and harnesses for 50 avalanche dogs.\n",
    "\n",
    "We want to use harness size to estimate boot size. This means `harness_size` is our _input_. We want a model that will process the input and make its own estimations of the boot size (output).  \n",
    "\n",
    "## Select a model\n",
    "\n",
    "The first thing we must do is select a model. We're just getting started, so we'll start with a very simple model called _OLS_. This is just a straight line (sometimes called a trendline).\n",
    "\n",
    "Let's use an existing library to create our model, but we won't train it yet."
   ]
  },
  {
   "cell_type": "code",
   "execution_count": 2,
   "metadata": {},
   "outputs": [
    {
     "name": "stdout",
     "output_type": "stream",
     "text": [
      "Model selected but it does not have parameters set. We need to train it!\n"
     ]
    }
   ],
   "source": [
    "# Load a library to do the hard work for us\n",
    "import statsmodels.formula.api as smf\n",
    "\n",
    "# First, we define our formula using a special syntax\n",
    "# This says that boot_size is explained by harness_size\n",
    "\n",
    "formula = \"boot_size ~ harness_size\"\n",
    "\n",
    "# In this line, a formula is defined using a special syntax provided by statsmodels. \n",
    "#   The formula represents a linear regression model, where boot_size is the dependent \n",
    "#   variable, and harness_size is the independent variable. This formula indicates that \n",
    "#   we want to predict boot_size based on the value of harness_size.\n",
    "\n",
    "# Create the model, but don't train it yet\n",
    "model = smf.ols(formula = formula, data = dataset)\n",
    "# Here, a linear regression model is created using the ols (ordinary least squares) \n",
    "#   function from statsmodels. The formula formula is provided as an argument, and the \n",
    "#   data for the model is expected to be in a dataset, which should be a pandas DataFrame \n",
    "#   or a similar data structure.\n",
    "\n",
    "# Note that we have created our model but it does not \n",
    "# have internal parameters set yet\n",
    "if not hasattr(model, 'params'):\n",
    "    print(\"Model selected but it does not have parameters set. We need to train it!\")"
   ]
  },
  {
   "attachments": {},
   "cell_type": "markdown",
   "metadata": {},
   "source": [
    "## Train our model\n",
    "\n",
    "OLS models have two parameters (a slope and an offset), but these haven't been set in our model yet. We need to _train_ (_fit_) our model to find these values so that the model can reliably estimate dogs' boot size based on their harness size. \n",
    "\n",
    "The following code fits our model to data you've now seen:"
   ]
  },
  {
   "cell_type": "code",
   "execution_count": 3,
   "metadata": {},
   "outputs": [
    {
     "name": "stdout",
     "output_type": "stream",
     "text": [
      "The following model parameters have been found:\n",
      "Line slope: 0.5859254167382717\n",
      "Line Intercept: 5.719109812682555\n"
     ]
    }
   ],
   "source": [
    "# Load some libraries to do the hard work for us\n",
    "import graphing \n",
    "\n",
    "# Train (fit) the model so that it creates a line that \n",
    "# fits our data. This method does the hard work for\n",
    "# us. We will look at how this method works in a later unit.\n",
    "fitted_model = model.fit()\n",
    "\n",
    "# Print information about our model now it has been fit\n",
    "print(\"The following model parameters have been found:\\n\" +\n",
    "        f\"Line slope: {fitted_model.params[1]}\\n\"+\n",
    "        f\"Line Intercept: {fitted_model.params[0]}\")"
   ]
  },
  {
   "attachments": {},
   "cell_type": "markdown",
   "metadata": {},
   "source": [
    "Notice how training the model set its parameters. We could interpret these directly, but it's simpler to see it as a graph:\n"
   ]
  },
  {
   "cell_type": "code",
   "execution_count": 4,
   "metadata": {},
   "outputs": [
    {
     "data": {
      "application/vnd.plotly.v1+json": {
       "config": {
        "plotlyServerURL": "https://plot.ly"
       },
       "data": [
        {
         "hovertemplate": "harness size=%{x}<br>boot size=%{y}<extra></extra>",
         "legendgroup": "",
         "marker": {
          "color": "#636efa",
          "size": 19,
          "symbol": "circle"
         },
         "mode": "markers",
         "name": "",
         "orientation": "v",
         "showlegend": false,
         "type": "scatter",
         "x": [
          58,
          58,
          52,
          58,
          57,
          52,
          55,
          53,
          49,
          54,
          59,
          56,
          53,
          58,
          57,
          58,
          56,
          51,
          50,
          59,
          59,
          59,
          55,
          50,
          55,
          52,
          53,
          54,
          61,
          56,
          55,
          60,
          57,
          56,
          61,
          58,
          53,
          57,
          57,
          55,
          60,
          51,
          52,
          56,
          55,
          57,
          58,
          57,
          51,
          59
         ],
         "xaxis": "x",
         "y": [
          39,
          38,
          37,
          39,
          38,
          35,
          37,
          36,
          35,
          40,
          40,
          36,
          38,
          39,
          42,
          42,
          36,
          36,
          35,
          41,
          42,
          38,
          37,
          35,
          40,
          36,
          35,
          39,
          41,
          37,
          35,
          41,
          39,
          41,
          42,
          42,
          36,
          37,
          37,
          39,
          42,
          35,
          36,
          41,
          41,
          41,
          39,
          39,
          35,
          39
         ],
         "yaxis": "y"
        }
       ],
       "layout": {
        "legend": {
         "tracegroupgap": 0
        },
        "shapes": [
         {
          "line": {
           "color": "rgb(228,26,28)"
          },
          "path": "M49.0 34.42945523285787 L 49.06030150753769 34.464787418791836 L 49.120603015075375 34.500119604725796 L 49.18090452261306 34.535451790659764 L 49.24120603015076 34.57078397659374 L 49.301507537688444 34.6061161625277 L 49.36180904522613 34.641448348461665 L 49.42211055276382 34.67678053439563 L 49.482412060301506 34.7121127203296 L 49.54271356783919 34.74744490626356 L 49.60301507537689 34.782777092197534 L 49.663316582914575 34.818109278131494 L 49.72361809045226 34.85344146406546 L 49.78391959798995 34.88877364999943 L 49.84422110552764 34.924105835933396 L 49.904522613065325 34.959438021867356 L 49.96482412060301 34.994770207801324 L 50.02512562814071 35.0301023937353 L 50.085427135678394 35.06543457966926 L 50.14572864321608 35.100766765603225 L 50.20603015075377 35.13609895153719 L 50.266331658291456 35.17143113747116 L 50.32663316582914 35.20676332340512 L 50.38693467336683 35.24209550933909 L 50.447236180904525 35.277427695273055 L 50.50753768844221 35.31275988120702 L 50.5678391959799 35.34809206714099 L 50.62814070351759 35.383424253074956 L 50.688442211055275 35.41875643900892 L 50.74874371859296 35.454088624942884 L 50.80904522613065 35.48942081087685 L 50.869346733668344 35.52475299681082 L 50.92964824120603 35.560085182744785 L 50.98994974874372 35.59541736867875 L 51.050251256281406 35.63074955461272 L 51.11055276381909 35.66608174054668 L 51.17085427135678 35.70141392648065 L 51.231155778894475 35.736746112414615 L 51.29145728643216 35.77207829834858 L 51.35175879396985 35.80741048428255 L 51.41206030150754 35.842742670216516 L 51.472361809045225 35.87807485615048 L 51.53266331658291 35.913407042084444 L 51.5929648241206 35.94873922801841 L 51.653266331658294 35.98407141395238 L 51.71356783919598 36.019403599886346 L 51.77386934673367 36.05473578582031 L 51.834170854271356 36.09006797175428 L 51.89447236180904 36.12540015768824 L 51.95477386934673 36.16073234362221 L 52.015075376884425 36.196064529556175 L 52.07537688442211 36.23139671549014 L 52.1356783919598 36.26672890142411 L 52.19597989949749 36.30206108735808 L 52.256281407035175 36.33739327329204 L 52.31658291457286 36.372725459226004 L 52.37688442211055 36.40805764515997 L 52.437185929648244 36.44338983109394 L 52.49748743718593 36.478722017027906 L 52.55778894472362 36.51405420296187 L 52.618090452261306 36.54938638889583 L 52.678391959798994 36.5847185748298 L 52.73869346733668 36.62005076076377 L 52.798994974874375 36.655382946697735 L 52.85929648241206 36.6907151326317 L 52.91959798994975 36.72604731856567 L 52.97989949748744 36.76137950449964 L 53.040201005025125 36.7967116904336 L 53.10050251256281 36.832043876367564 L 53.1608040201005 36.86737606230153 L 53.22110552763819 36.9027082482355 L 53.28140703517588 36.938040434169466 L 53.34170854271357 36.97337262010343 L 53.402010050251256 37.00870480603739 L 53.462311557788944 37.04403699197136 L 53.52261306532663 37.07936917790533 L 53.58291457286432 37.114701363839295 L 53.64321608040201 37.15003354977326 L 53.7035175879397 37.18536573570723 L 53.76381909547739 37.2206979216412 L 53.824120603015075 37.25603010757516 L 53.88442211055276 37.291362293509124 L 53.94472361809045 37.32669447944309 L 54.00502512562814 37.36202666537706 L 54.06532663316583 37.397358851311026 L 54.12562814070352 37.43269103724499 L 54.185929648241206 37.46802322317895 L 54.246231155778894 37.50335540911292 L 54.30653266331658 37.53868759504689 L 54.36683417085427 37.574019780980855 L 54.42713567839196 37.60935196691482 L 54.48743718592965 37.64468415284879 L 54.54773869346734 37.68001633878276 L 54.608040201005025 37.71534852471672 L 54.66834170854271 37.750680710650684 L 54.7286432160804 37.78601289658465 L 54.78894472361809 37.82134508251861 L 54.84924623115578 37.856677268452586 L 54.90954773869347 37.892009454386546 L 54.969849246231156 37.92734164032051 L 55.030150753768844 37.96267382625448 L 55.09045226130653 37.99800601218845 L 55.15075376884422 38.03333819812241 L 55.21105527638191 38.06867038405638 L 55.2713567839196 38.10400256999035 L 55.33165829145729 38.13933475592431 L 55.391959798994975 38.17466694185828 L 55.45226130653266 38.209999127792244 L 55.51256281407035 38.24533131372621 L 55.57286432160804 38.28066349966017 L 55.633165829145725 38.31599568559414 L 55.69346733668342 38.351327871528106 L 55.753768844221106 38.38666005746207 L 55.814070351758794 38.42199224339604 L 55.87437185929648 38.45732442933001 L 55.93467336683417 38.49265661526397 L 55.99497487437186 38.52798880119794 L 56.05527638190955 38.5633209871319 L 56.11557788944724 38.59865317306587 L 56.175879396984925 38.63398535899984 L 56.23618090452261 38.669317544933804 L 56.2964824120603 38.70464973086777 L 56.35678391959799 38.73998191680173 L 56.417085427135675 38.7753141027357 L 56.47738693467337 38.810646288669666 L 56.537688442211056 38.84597847460363 L 56.597989949748744 38.8813106605376 L 56.65829145728643 38.91664284647157 L 56.71859296482412 38.95197503240553 L 56.778894472361806 38.987307218339495 L 56.8391959798995 39.02263940427346 L 56.89949748743719 39.05797159020743 L 56.959798994974875 39.0933037761414 L 57.02010050251256 39.128635962075364 L 57.08040201005025 39.163968148009324 L 57.14070351758794 39.19930033394329 L 57.201005025125625 39.23463251987726 L 57.26130653266331 39.269964705811226 L 57.321608040201006 39.30529689174519 L 57.381909547738694 39.34062907767916 L 57.44221105527638 39.37596126361313 L 57.50251256281407 39.41129344954709 L 57.562814070351756 39.446625635481055 L 57.62311557788945 39.48195782141502 L 57.68341708542714 39.51729000734899 L 57.743718592964825 39.55262219328296 L 57.80402010050251 39.587954379216924 L 57.8643216080402 39.623286565150885 L 57.92462311557789 39.65861875108485 L 57.984924623115575 39.69395093701882 L 58.04522613065326 39.729283122952786 L 58.10552763819096 39.764615308886754 L 58.165829145728644 39.79994749482072 L 58.22613065326633 39.83527968075469 L 58.28643216080402 39.87061186668865 L 58.346733668341706 39.905944052622615 L 58.4070351758794 39.94127623855658 L 58.46733668341709 39.97660842449055 L 58.527638190954775 40.01194061042452 L 58.58793969849246 40.047272796358484 L 58.64824120603015 40.082604982292445 L 58.70854271356784 40.11793716822641 L 58.768844221105525 40.15326935416038 L 58.82914572864321 40.188601540094346 L 58.88944723618091 40.223933726028314 L 58.949748743718594 40.25926591196228 L 59.01005025125628 40.29459809789625 L 59.07035175879397 40.32993028383021 L 59.130653266331656 40.365262469764176 L 59.19095477386935 40.40059465569814 L 59.25125628140704 40.43592684163211 L 59.311557788944725 40.47125902756608 L 59.37185929648241 40.506591213500045 L 59.4321608040201 40.541923399434005 L 59.49246231155779 40.57725558536797 L 59.552763819095475 40.61258777130194 L 59.61306532663316 40.64791995723591 L 59.67336683417085 40.68325214316987 L 59.733668341708544 40.71858432910384 L 59.79396984924623 40.75391651503781 L 59.85427135678392 40.78924870097177 L 59.914572864321606 40.824580886905736 L 59.97487437185929 40.8599130728397 L 60.03517587939699 40.89524525877367 L 60.095477386934675 40.93057744470764 L 60.15577889447236 40.965909630641605 L 60.21608040201005 41.001241816575565 L 60.27638190954774 41.03657400250953 L 60.336683417085425 41.0719061884435 L 60.39698492462311 41.10723837437747 L 60.4572864321608 41.14257056031143 L 60.517587939698494 41.1779027462454 L 60.57788944723618 41.21323493217936 L 60.63819095477387 41.24856711811333 L 60.698492462311556 41.283899304047296 L 60.75879396984924 41.31923148998126 L 60.81909547738694 41.35456367591523 L 60.879396984924625 41.3898958618492 L 60.93969849246231 41.425228047783165 L 61.0 41.460560233717125",
          "type": "path"
         }
        ],
        "template": {
         "data": {
          "bar": [
           {
            "error_x": {
             "color": "#2a3f5f"
            },
            "error_y": {
             "color": "#2a3f5f"
            },
            "marker": {
             "line": {
              "color": "white",
              "width": 0.5
             },
             "pattern": {
              "fillmode": "overlay",
              "size": 10,
              "solidity": 0.2
             }
            },
            "type": "bar"
           }
          ],
          "barpolar": [
           {
            "marker": {
             "line": {
              "color": "white",
              "width": 0.5
             },
             "pattern": {
              "fillmode": "overlay",
              "size": 10,
              "solidity": 0.2
             }
            },
            "type": "barpolar"
           }
          ],
          "box": [
           {
            "boxpoints": "outliers",
            "notched": false,
            "type": "box"
           }
          ],
          "carpet": [
           {
            "aaxis": {
             "endlinecolor": "#2a3f5f",
             "gridcolor": "#C8D4E3",
             "linecolor": "#C8D4E3",
             "minorgridcolor": "#C8D4E3",
             "startlinecolor": "#2a3f5f"
            },
            "baxis": {
             "endlinecolor": "#2a3f5f",
             "gridcolor": "#C8D4E3",
             "linecolor": "#C8D4E3",
             "minorgridcolor": "#C8D4E3",
             "startlinecolor": "#2a3f5f"
            },
            "type": "carpet"
           }
          ],
          "choropleth": [
           {
            "colorbar": {
             "outlinewidth": 0,
             "ticks": ""
            },
            "type": "choropleth"
           }
          ],
          "contour": [
           {
            "colorbar": {
             "outlinewidth": 0,
             "ticks": ""
            },
            "colorscale": [
             [
              0,
              "#0d0887"
             ],
             [
              0.1111111111111111,
              "#46039f"
             ],
             [
              0.2222222222222222,
              "#7201a8"
             ],
             [
              0.3333333333333333,
              "#9c179e"
             ],
             [
              0.4444444444444444,
              "#bd3786"
             ],
             [
              0.5555555555555556,
              "#d8576b"
             ],
             [
              0.6666666666666666,
              "#ed7953"
             ],
             [
              0.7777777777777778,
              "#fb9f3a"
             ],
             [
              0.8888888888888888,
              "#fdca26"
             ],
             [
              1,
              "#f0f921"
             ]
            ],
            "type": "contour"
           }
          ],
          "contourcarpet": [
           {
            "colorbar": {
             "outlinewidth": 0,
             "ticks": ""
            },
            "type": "contourcarpet"
           }
          ],
          "heatmap": [
           {
            "colorbar": {
             "outlinewidth": 0,
             "ticks": ""
            },
            "colorscale": [
             [
              0,
              "#0d0887"
             ],
             [
              0.1111111111111111,
              "#46039f"
             ],
             [
              0.2222222222222222,
              "#7201a8"
             ],
             [
              0.3333333333333333,
              "#9c179e"
             ],
             [
              0.4444444444444444,
              "#bd3786"
             ],
             [
              0.5555555555555556,
              "#d8576b"
             ],
             [
              0.6666666666666666,
              "#ed7953"
             ],
             [
              0.7777777777777778,
              "#fb9f3a"
             ],
             [
              0.8888888888888888,
              "#fdca26"
             ],
             [
              1,
              "#f0f921"
             ]
            ],
            "type": "heatmap"
           }
          ],
          "heatmapgl": [
           {
            "colorbar": {
             "outlinewidth": 0,
             "ticks": ""
            },
            "colorscale": [
             [
              0,
              "#0d0887"
             ],
             [
              0.1111111111111111,
              "#46039f"
             ],
             [
              0.2222222222222222,
              "#7201a8"
             ],
             [
              0.3333333333333333,
              "#9c179e"
             ],
             [
              0.4444444444444444,
              "#bd3786"
             ],
             [
              0.5555555555555556,
              "#d8576b"
             ],
             [
              0.6666666666666666,
              "#ed7953"
             ],
             [
              0.7777777777777778,
              "#fb9f3a"
             ],
             [
              0.8888888888888888,
              "#fdca26"
             ],
             [
              1,
              "#f0f921"
             ]
            ],
            "type": "heatmapgl"
           }
          ],
          "histogram": [
           {
            "marker": {
             "line": {
              "width": 1
             },
             "pattern": {
              "fillmode": "overlay",
              "size": 10,
              "solidity": 0.2
             }
            },
            "type": "histogram"
           }
          ],
          "histogram2d": [
           {
            "colorbar": {
             "outlinewidth": 0,
             "ticks": ""
            },
            "colorscale": [
             [
              0,
              "#0d0887"
             ],
             [
              0.1111111111111111,
              "#46039f"
             ],
             [
              0.2222222222222222,
              "#7201a8"
             ],
             [
              0.3333333333333333,
              "#9c179e"
             ],
             [
              0.4444444444444444,
              "#bd3786"
             ],
             [
              0.5555555555555556,
              "#d8576b"
             ],
             [
              0.6666666666666666,
              "#ed7953"
             ],
             [
              0.7777777777777778,
              "#fb9f3a"
             ],
             [
              0.8888888888888888,
              "#fdca26"
             ],
             [
              1,
              "#f0f921"
             ]
            ],
            "type": "histogram2d"
           }
          ],
          "histogram2dcontour": [
           {
            "colorbar": {
             "outlinewidth": 0,
             "ticks": ""
            },
            "colorscale": [
             [
              0,
              "#0d0887"
             ],
             [
              0.1111111111111111,
              "#46039f"
             ],
             [
              0.2222222222222222,
              "#7201a8"
             ],
             [
              0.3333333333333333,
              "#9c179e"
             ],
             [
              0.4444444444444444,
              "#bd3786"
             ],
             [
              0.5555555555555556,
              "#d8576b"
             ],
             [
              0.6666666666666666,
              "#ed7953"
             ],
             [
              0.7777777777777778,
              "#fb9f3a"
             ],
             [
              0.8888888888888888,
              "#fdca26"
             ],
             [
              1,
              "#f0f921"
             ]
            ],
            "type": "histogram2dcontour"
           }
          ],
          "mesh3d": [
           {
            "colorbar": {
             "outlinewidth": 0,
             "ticks": ""
            },
            "type": "mesh3d"
           }
          ],
          "parcoords": [
           {
            "line": {
             "colorbar": {
              "outlinewidth": 0,
              "ticks": ""
             }
            },
            "type": "parcoords"
           }
          ],
          "pie": [
           {
            "automargin": true,
            "type": "pie"
           }
          ],
          "scatter": [
           {
            "fillpattern": {
             "fillmode": "overlay",
             "size": 10,
             "solidity": 0.2
            },
            "marker": {
             "opacity": 0.8
            },
            "type": "scatter"
           }
          ],
          "scatter3d": [
           {
            "line": {
             "colorbar": {
              "outlinewidth": 0,
              "ticks": ""
             }
            },
            "marker": {
             "colorbar": {
              "outlinewidth": 0,
              "ticks": ""
             },
             "opacity": 0.8
            },
            "type": "scatter3d"
           }
          ],
          "scattercarpet": [
           {
            "marker": {
             "colorbar": {
              "outlinewidth": 0,
              "ticks": ""
             }
            },
            "type": "scattercarpet"
           }
          ],
          "scattergeo": [
           {
            "marker": {
             "colorbar": {
              "outlinewidth": 0,
              "ticks": ""
             }
            },
            "type": "scattergeo"
           }
          ],
          "scattergl": [
           {
            "marker": {
             "colorbar": {
              "outlinewidth": 0,
              "ticks": ""
             }
            },
            "type": "scattergl"
           }
          ],
          "scattermapbox": [
           {
            "marker": {
             "colorbar": {
              "outlinewidth": 0,
              "ticks": ""
             }
            },
            "type": "scattermapbox"
           }
          ],
          "scatterpolar": [
           {
            "marker": {
             "colorbar": {
              "outlinewidth": 0,
              "ticks": ""
             }
            },
            "type": "scatterpolar"
           }
          ],
          "scatterpolargl": [
           {
            "marker": {
             "colorbar": {
              "outlinewidth": 0,
              "ticks": ""
             }
            },
            "type": "scatterpolargl"
           }
          ],
          "scatterternary": [
           {
            "marker": {
             "colorbar": {
              "outlinewidth": 0,
              "ticks": ""
             }
            },
            "type": "scatterternary"
           }
          ],
          "surface": [
           {
            "colorbar": {
             "outlinewidth": 0,
             "ticks": ""
            },
            "colorscale": [
             [
              0,
              "#0d0887"
             ],
             [
              0.1111111111111111,
              "#46039f"
             ],
             [
              0.2222222222222222,
              "#7201a8"
             ],
             [
              0.3333333333333333,
              "#9c179e"
             ],
             [
              0.4444444444444444,
              "#bd3786"
             ],
             [
              0.5555555555555556,
              "#d8576b"
             ],
             [
              0.6666666666666666,
              "#ed7953"
             ],
             [
              0.7777777777777778,
              "#fb9f3a"
             ],
             [
              0.8888888888888888,
              "#fdca26"
             ],
             [
              1,
              "#f0f921"
             ]
            ],
            "type": "surface"
           }
          ],
          "table": [
           {
            "cells": {
             "fill": {
              "color": "#EBF0F8"
             },
             "line": {
              "color": "white"
             }
            },
            "header": {
             "fill": {
              "color": "#C8D4E3"
             },
             "line": {
              "color": "white"
             }
            },
            "type": "table"
           }
          ]
         },
         "layout": {
          "annotationdefaults": {
           "arrowcolor": "#2a3f5f",
           "arrowhead": 0,
           "arrowwidth": 1
          },
          "autotypenumbers": "strict",
          "coloraxis": {
           "colorbar": {
            "outlinewidth": 0,
            "ticks": ""
           }
          },
          "colorscale": {
           "diverging": [
            [
             0,
             "#8e0152"
            ],
            [
             0.1,
             "#c51b7d"
            ],
            [
             0.2,
             "#de77ae"
            ],
            [
             0.3,
             "#f1b6da"
            ],
            [
             0.4,
             "#fde0ef"
            ],
            [
             0.5,
             "#f7f7f7"
            ],
            [
             0.6,
             "#e6f5d0"
            ],
            [
             0.7,
             "#b8e186"
            ],
            [
             0.8,
             "#7fbc41"
            ],
            [
             0.9,
             "#4d9221"
            ],
            [
             1,
             "#276419"
            ]
           ],
           "sequential": [
            [
             0,
             "#0d0887"
            ],
            [
             0.1111111111111111,
             "#46039f"
            ],
            [
             0.2222222222222222,
             "#7201a8"
            ],
            [
             0.3333333333333333,
             "#9c179e"
            ],
            [
             0.4444444444444444,
             "#bd3786"
            ],
            [
             0.5555555555555556,
             "#d8576b"
            ],
            [
             0.6666666666666666,
             "#ed7953"
            ],
            [
             0.7777777777777778,
             "#fb9f3a"
            ],
            [
             0.8888888888888888,
             "#fdca26"
            ],
            [
             1,
             "#f0f921"
            ]
           ],
           "sequentialminus": [
            [
             0,
             "#0d0887"
            ],
            [
             0.1111111111111111,
             "#46039f"
            ],
            [
             0.2222222222222222,
             "#7201a8"
            ],
            [
             0.3333333333333333,
             "#9c179e"
            ],
            [
             0.4444444444444444,
             "#bd3786"
            ],
            [
             0.5555555555555556,
             "#d8576b"
            ],
            [
             0.6666666666666666,
             "#ed7953"
            ],
            [
             0.7777777777777778,
             "#fb9f3a"
            ],
            [
             0.8888888888888888,
             "#fdca26"
            ],
            [
             1,
             "#f0f921"
            ]
           ]
          },
          "colorway": [
           "#636efa",
           "#EF553B",
           "#00cc96",
           "#ab63fa",
           "#FFA15A",
           "#19d3f3",
           "#FF6692",
           "#B6E880",
           "#FF97FF",
           "#FECB52"
          ],
          "font": {
           "color": "#2a3f5f"
          },
          "geo": {
           "bgcolor": "white",
           "lakecolor": "white",
           "landcolor": "white",
           "showlakes": true,
           "showland": true,
           "subunitcolor": "#C8D4E3"
          },
          "height": 400,
          "hoverlabel": {
           "align": "left"
          },
          "hovermode": "closest",
          "mapbox": {
           "style": "light"
          },
          "margin": {
           "b": 2,
           "l": 2,
           "r": 2,
           "t": 30
          },
          "paper_bgcolor": "white",
          "plot_bgcolor": "white",
          "polar": {
           "angularaxis": {
            "gridcolor": "#EBF0F8",
            "linecolor": "#EBF0F8",
            "ticks": ""
           },
           "bgcolor": "white",
           "radialaxis": {
            "gridcolor": "#EBF0F8",
            "linecolor": "#EBF0F8",
            "ticks": ""
           }
          },
          "scene": {
           "camera": {
            "eye": {
             "x": 1.5,
             "y": 1.5,
             "z": 0.1
            }
           },
           "xaxis": {
            "backgroundcolor": "white",
            "gridcolor": "#DFE8F3",
            "gridwidth": 2,
            "linecolor": "#EBF0F8",
            "showbackground": true,
            "ticks": "",
            "zerolinecolor": "#EBF0F8"
           },
           "yaxis": {
            "backgroundcolor": "white",
            "gridcolor": "#DFE8F3",
            "gridwidth": 2,
            "linecolor": "#EBF0F8",
            "showbackground": true,
            "ticks": "",
            "zerolinecolor": "#EBF0F8"
           },
           "zaxis": {
            "backgroundcolor": "white",
            "gridcolor": "#DFE8F3",
            "gridwidth": 2,
            "linecolor": "#EBF0F8",
            "showbackground": true,
            "ticks": "",
            "zerolinecolor": "#EBF0F8"
           }
          },
          "shapedefaults": {
           "line": {
            "color": "#2a3f5f"
           }
          },
          "ternary": {
           "aaxis": {
            "gridcolor": "#DFE8F3",
            "linecolor": "#A2B1C6",
            "ticks": ""
           },
           "baxis": {
            "gridcolor": "#DFE8F3",
            "linecolor": "#A2B1C6",
            "ticks": ""
           },
           "bgcolor": "white",
           "caxis": {
            "gridcolor": "#DFE8F3",
            "linecolor": "#A2B1C6",
            "ticks": ""
           }
          },
          "title": {
           "x": 0.5
          },
          "xaxis": {
           "automargin": true,
           "gridcolor": "#EBF0F8",
           "linecolor": "#EBF0F8",
           "linewidth": 2,
           "showline": true,
           "ticks": "",
           "title": {
            "standoff": 15
           },
           "zerolinecolor": "#EBF0F8",
           "zerolinewidth": 2
          },
          "yaxis": {
           "automargin": true,
           "gridcolor": "#EBF0F8",
           "linecolor": "#EBF0F8",
           "linewidth": 2,
           "showline": true,
           "ticks": "",
           "title": {
            "standoff": 15
           },
           "zerolinecolor": "#EBF0F8",
           "zerolinewidth": 2
          }
         }
        },
        "xaxis": {
         "anchor": "y",
         "domain": [
          0,
          1
         ],
         "title": {
          "text": "harness size"
         }
        },
        "yaxis": {
         "anchor": "x",
         "domain": [
          0,
          1
         ],
         "title": {
          "text": "boot size"
         }
        }
       }
      }
     },
     "metadata": {},
     "output_type": "display_data"
    }
   ],
   "source": [
    "import graphing\n",
    "\n",
    "# Show a graph of the result\n",
    "# Don't worry about how this works for now\n",
    "graphing.scatter_2D(dataset,    label_x=\"harness_size\", \n",
    "                                label_y=\"boot_size\",\n",
    "                                trendline=lambda x: fitted_model.params[1] * x + fitted_model.params[0]\n",
    "                                )"
   ]
  },
  {
   "attachments": {},
   "cell_type": "markdown",
   "metadata": {},
   "source": [
    "\n",
    "The graph above shows our original data as circles with a red line through it. The red line shows our _model_.\n",
    "\n",
    "We can look at this line to understand our model. For example, we can see that as harness size increases, so will the estimated boot size. \n",
    "\n",
    "## Use the model\n",
    "\n",
    "Now that we've finished training, we can use our model to predict a dog's boot size from their harness size. \n",
    "\n",
    "For example, by looking at the red line, we can see that that a harness size of `52.5` (x axis) corresponds to a boot size of about `36.5` (y axis).\n",
    "\n",
    "We don't have to do this by eye though. We can use the model in our program to predict any boot size we like. Run the following code to see how we can use our model now that it's trained:"
   ]
  },
  {
   "cell_type": "code",
   "execution_count": 5,
   "metadata": {},
   "outputs": [
    {
     "name": "stdout",
     "output_type": "stream",
     "text": [
      "Estimated approximate_boot_size:\n",
      "18.902431689293667\n"
     ]
    }
   ],
   "source": [
    "# harness_size states the size of the harness we are interested in\n",
    "# harness_size = { 'harness_size' : [52.5] }\n",
    "\n",
    "# taking input from user of harness size\n",
    "input_harness_size = float(input(\"Enter harness of size to predict boot size: \"))\n",
    "\n",
    "harness_size = { 'harness_size' : [input_harness_size] }\n",
    "\n",
    "# Use the model to predict what size of boots the dog will fit\n",
    "approximate_boot_size = fitted_model.predict(harness_size)\n",
    "\n",
    "# Print the result\n",
    "print(\"Estimated approximate_boot_size:\")\n",
    "print(approximate_boot_size[0])"
   ]
  },
  {
   "cell_type": "code",
   "execution_count": 9,
   "metadata": {},
   "outputs": [
    {
     "name": "stdout",
     "output_type": "stream",
     "text": [
      "Collecting scikit-learnNote: you may need to restart the kernel to use updated packages.\n",
      "\n",
      "  Obtaining dependency information for scikit-learn from https://files.pythonhosted.org/packages/77/85/bff3a1e818ec6aa3dd466ff4f4b0a727db9fdb41f2e849747ad902ddbe95/scikit_learn-1.3.0-cp311-cp311-win_amd64.whl.metadata\n",
      "  Downloading scikit_learn-1.3.0-cp311-cp311-win_amd64.whl.metadata (11 kB)\n",
      "Requirement already satisfied: numpy>=1.17.3 in c:\\users\\administrator\\appdata\\local\\programs\\python\\python311\\lib\\site-packages (from scikit-learn) (1.24.2)\n",
      "Requirement already satisfied: scipy>=1.5.0 in c:\\users\\administrator\\appdata\\local\\programs\\python\\python311\\lib\\site-packages (from scikit-learn) (1.11.1)\n",
      "Collecting joblib>=1.1.1 (from scikit-learn)\n",
      "  Obtaining dependency information for joblib>=1.1.1 from https://files.pythonhosted.org/packages/28/08/9dcdaa5aac4634e4c23af26d92121f7ce445c630efa0d3037881ae2407fb/joblib-1.3.1-py3-none-any.whl.metadata\n",
      "  Downloading joblib-1.3.1-py3-none-any.whl.metadata (5.4 kB)\n",
      "Collecting threadpoolctl>=2.0.0 (from scikit-learn)\n",
      "  Obtaining dependency information for threadpoolctl>=2.0.0 from https://files.pythonhosted.org/packages/81/12/fd4dea011af9d69e1cad05c75f3f7202cdcbeac9b712eea58ca779a72865/threadpoolctl-3.2.0-py3-none-any.whl.metadata\n",
      "  Downloading threadpoolctl-3.2.0-py3-none-any.whl.metadata (10.0 kB)\n",
      "Downloading scikit_learn-1.3.0-cp311-cp311-win_amd64.whl (9.2 MB)\n",
      "   ---------------------------------------- 0.0/9.2 MB ? eta -:--:--\n",
      "   ---------------------------------------- 0.0/9.2 MB ? eta -:--:--\n",
      "   ---------------------------------------- 0.0/9.2 MB 435.7 kB/s eta 0:00:22\n",
      "   ---------------------------------------- 0.1/9.2 MB 465.5 kB/s eta 0:00:20\n",
      "   ---------------------------------------- 0.1/9.2 MB 581.0 kB/s eta 0:00:16\n",
      "    --------------------------------------- 0.1/9.2 MB 655.8 kB/s eta 0:00:14\n",
      "    --------------------------------------- 0.2/9.2 MB 756.6 kB/s eta 0:00:12\n",
      "    --------------------------------------- 0.2/9.2 MB 765.3 kB/s eta 0:00:12\n",
      "   - -------------------------------------- 0.3/9.2 MB 863.3 kB/s eta 0:00:11\n",
      "   - -------------------------------------- 0.3/9.2 MB 863.3 kB/s eta 0:00:11\n",
      "   - -------------------------------------- 0.4/9.2 MB 897.8 kB/s eta 0:00:10\n",
      "   -- ------------------------------------- 0.5/9.2 MB 1.0 MB/s eta 0:00:09\n",
      "   -- ------------------------------------- 0.6/9.2 MB 1.1 MB/s eta 0:00:09\n",
      "   -- ------------------------------------- 0.6/9.2 MB 1.1 MB/s eta 0:00:08\n",
      "   -- ------------------------------------- 0.7/9.2 MB 1.1 MB/s eta 0:00:08\n",
      "   --- ------------------------------------ 0.8/9.2 MB 1.2 MB/s eta 0:00:07\n",
      "   --- ------------------------------------ 0.8/9.2 MB 1.3 MB/s eta 0:00:07\n",
      "   ---- ----------------------------------- 0.9/9.2 MB 1.3 MB/s eta 0:00:07\n",
      "   ---- ----------------------------------- 1.0/9.2 MB 1.3 MB/s eta 0:00:07\n",
      "   ---- ----------------------------------- 1.0/9.2 MB 1.3 MB/s eta 0:00:07\n",
      "   ---- ----------------------------------- 1.1/9.2 MB 1.3 MB/s eta 0:00:07\n",
      "   ----- ---------------------------------- 1.2/9.2 MB 1.3 MB/s eta 0:00:07\n",
      "   ----- ---------------------------------- 1.2/9.2 MB 1.3 MB/s eta 0:00:07\n",
      "   ----- ---------------------------------- 1.2/9.2 MB 1.3 MB/s eta 0:00:07\n",
      "   ----- ---------------------------------- 1.2/9.2 MB 1.3 MB/s eta 0:00:07\n",
      "   ----- ---------------------------------- 1.2/9.2 MB 1.3 MB/s eta 0:00:07\n",
      "   ----- ---------------------------------- 1.3/9.2 MB 1.2 MB/s eta 0:00:07\n",
      "   ----- ---------------------------------- 1.4/9.2 MB 1.2 MB/s eta 0:00:07\n",
      "   ----- ---------------------------------- 1.4/9.2 MB 1.2 MB/s eta 0:00:07\n",
      "   ----- ---------------------------------- 1.4/9.2 MB 1.2 MB/s eta 0:00:07\n",
      "   ----- ---------------------------------- 1.4/9.2 MB 1.2 MB/s eta 0:00:07\n",
      "   ------ --------------------------------- 1.6/9.2 MB 1.2 MB/s eta 0:00:07\n",
      "   ------ --------------------------------- 1.6/9.2 MB 1.2 MB/s eta 0:00:07\n",
      "   ------ --------------------------------- 1.6/9.2 MB 1.2 MB/s eta 0:00:07\n",
      "   ------- -------------------------------- 1.6/9.2 MB 1.1 MB/s eta 0:00:07\n",
      "   ------- -------------------------------- 1.7/9.2 MB 1.2 MB/s eta 0:00:07\n",
      "   ------- -------------------------------- 1.7/9.2 MB 1.2 MB/s eta 0:00:07\n",
      "   ------- -------------------------------- 1.8/9.2 MB 1.1 MB/s eta 0:00:07\n",
      "   ------- -------------------------------- 1.8/9.2 MB 1.1 MB/s eta 0:00:07\n",
      "   -------- ------------------------------- 1.9/9.2 MB 1.1 MB/s eta 0:00:07\n",
      "   -------- ------------------------------- 1.9/9.2 MB 1.1 MB/s eta 0:00:07\n",
      "   -------- ------------------------------- 1.9/9.2 MB 1.1 MB/s eta 0:00:07\n",
      "   -------- ------------------------------- 1.9/9.2 MB 1.1 MB/s eta 0:00:07\n",
      "   -------- ------------------------------- 1.9/9.2 MB 1.1 MB/s eta 0:00:07\n",
      "   -------- ------------------------------- 1.9/9.2 MB 1.1 MB/s eta 0:00:07\n",
      "   -------- ------------------------------- 1.9/9.2 MB 1.1 MB/s eta 0:00:07\n",
      "   -------- ------------------------------- 1.9/9.2 MB 1.1 MB/s eta 0:00:07\n",
      "   -------- ------------------------------- 1.9/9.2 MB 1.1 MB/s eta 0:00:07\n",
      "   --------- ------------------------------ 2.1/9.2 MB 990.0 kB/s eta 0:00:08\n",
      "   --------- ------------------------------ 2.1/9.2 MB 994.9 kB/s eta 0:00:08\n",
      "   --------- ------------------------------ 2.1/9.2 MB 987.9 kB/s eta 0:00:08\n",
      "   --------- ------------------------------ 2.1/9.2 MB 987.9 kB/s eta 0:00:08\n",
      "   --------- ------------------------------ 2.2/9.2 MB 949.0 kB/s eta 0:00:08\n",
      "   --------- ------------------------------ 2.2/9.2 MB 949.0 kB/s eta 0:00:08\n",
      "   --------- ------------------------------ 2.2/9.2 MB 909.7 kB/s eta 0:00:08\n",
      "   --------- ------------------------------ 2.2/9.2 MB 909.7 kB/s eta 0:00:08\n",
      "   --------- ------------------------------ 2.2/9.2 MB 889.2 kB/s eta 0:00:08\n",
      "   --------- ------------------------------ 2.2/9.2 MB 889.2 kB/s eta 0:00:08\n",
      "   --------- ------------------------------ 2.2/9.2 MB 873.9 kB/s eta 0:00:08\n",
      "   --------- ------------------------------ 2.3/9.2 MB 875.0 kB/s eta 0:00:08\n",
      "   ---------- ----------------------------- 2.3/9.2 MB 873.8 kB/s eta 0:00:08\n",
      "   ---------- ----------------------------- 2.3/9.2 MB 873.8 kB/s eta 0:00:08\n",
      "   ---------- ----------------------------- 2.3/9.2 MB 864.8 kB/s eta 0:00:08\n",
      "   ---------- ----------------------------- 2.4/9.2 MB 863.9 kB/s eta 0:00:08\n",
      "   ---------- ----------------------------- 2.4/9.2 MB 866.3 kB/s eta 0:00:08\n",
      "   ---------- ----------------------------- 2.4/9.2 MB 850.9 kB/s eta 0:00:08\n",
      "   ---------- ----------------------------- 2.4/9.2 MB 844.1 kB/s eta 0:00:09\n",
      "   ---------- ----------------------------- 2.5/9.2 MB 846.5 kB/s eta 0:00:08\n",
      "   ---------- ----------------------------- 2.5/9.2 MB 827.8 kB/s eta 0:00:09\n",
      "   ---------- ----------------------------- 2.5/9.2 MB 829.4 kB/s eta 0:00:09\n",
      "   ---------- ----------------------------- 2.5/9.2 MB 829.4 kB/s eta 0:00:09\n",
      "   ---------- ----------------------------- 2.5/9.2 MB 815.1 kB/s eta 0:00:09\n",
      "   ----------- ---------------------------- 2.5/9.2 MB 805.2 kB/s eta 0:00:09\n",
      "   ----------- ---------------------------- 2.5/9.2 MB 805.2 kB/s eta 0:00:09\n",
      "   ----------- ---------------------------- 2.5/9.2 MB 805.2 kB/s eta 0:00:09\n",
      "   ----------- ---------------------------- 2.6/9.2 MB 780.2 kB/s eta 0:00:09\n",
      "   ----------- ---------------------------- 2.6/9.2 MB 784.6 kB/s eta 0:00:09\n",
      "   ----------- ---------------------------- 2.6/9.2 MB 773.1 kB/s eta 0:00:09\n",
      "   ----------- ---------------------------- 2.6/9.2 MB 773.1 kB/s eta 0:00:09\n",
      "   ----------- ---------------------------- 2.7/9.2 MB 761.0 kB/s eta 0:00:09\n",
      "   ----------- ---------------------------- 2.7/9.2 MB 763.6 kB/s eta 0:00:09\n",
      "   ----------- ---------------------------- 2.7/9.2 MB 758.7 kB/s eta 0:00:09\n",
      "   ----------- ---------------------------- 2.7/9.2 MB 757.4 kB/s eta 0:00:09\n",
      "   ------------ --------------------------- 2.8/9.2 MB 753.4 kB/s eta 0:00:09\n",
      "   ------------ --------------------------- 2.8/9.2 MB 752.5 kB/s eta 0:00:09\n",
      "   ------------ --------------------------- 2.8/9.2 MB 748.2 kB/s eta 0:00:09\n",
      "   ------------ --------------------------- 2.8/9.2 MB 748.2 kB/s eta 0:00:09\n",
      "   ------------ --------------------------- 2.8/9.2 MB 732.6 kB/s eta 0:00:09\n",
      "   ------------ --------------------------- 2.8/9.2 MB 732.6 kB/s eta 0:00:09\n",
      "   ------------ --------------------------- 2.8/9.2 MB 732.6 kB/s eta 0:00:09\n",
      "   ------------ --------------------------- 2.8/9.2 MB 732.6 kB/s eta 0:00:09\n",
      "   ------------ --------------------------- 2.8/9.2 MB 732.6 kB/s eta 0:00:09\n",
      "   ------------ --------------------------- 2.8/9.2 MB 732.6 kB/s eta 0:00:09\n",
      "   ------------ --------------------------- 2.8/9.2 MB 692.8 kB/s eta 0:00:10\n",
      "   ------------ --------------------------- 2.9/9.2 MB 692.6 kB/s eta 0:00:10\n",
      "   ------------ --------------------------- 2.9/9.2 MB 692.6 kB/s eta 0:00:10\n",
      "   ------------ --------------------------- 2.9/9.2 MB 681.9 kB/s eta 0:00:10\n",
      "   ------------ --------------------------- 2.9/9.2 MB 681.9 kB/s eta 0:00:10\n",
      "   ------------ --------------------------- 2.9/9.2 MB 676.7 kB/s eta 0:00:10\n",
      "   ------------ --------------------------- 3.0/9.2 MB 676.4 kB/s eta 0:00:10\n",
      "   ------------ --------------------------- 3.0/9.2 MB 674.0 kB/s eta 0:00:10\n",
      "   ------------- -------------------------- 3.0/9.2 MB 673.8 kB/s eta 0:00:10\n",
      "   ------------- -------------------------- 3.0/9.2 MB 673.5 kB/s eta 0:00:10\n",
      "   ------------- -------------------------- 3.0/9.2 MB 669.0 kB/s eta 0:00:10\n",
      "   ------------- -------------------------- 3.1/9.2 MB 671.0 kB/s eta 0:00:10\n",
      "   ------------- -------------------------- 3.1/9.2 MB 666.4 kB/s eta 0:00:10\n",
      "   ------------- -------------------------- 3.1/9.2 MB 666.3 kB/s eta 0:00:10\n",
      "   ------------- -------------------------- 3.1/9.2 MB 664.0 kB/s eta 0:00:10\n",
      "   ------------- -------------------------- 3.2/9.2 MB 661.8 kB/s eta 0:00:10\n",
      "   ------------- -------------------------- 3.2/9.2 MB 663.9 kB/s eta 0:00:10\n",
      "   -------------- ------------------------- 3.2/9.2 MB 663.8 kB/s eta 0:00:09\n",
      "   -------------- ------------------------- 3.2/9.2 MB 663.7 kB/s eta 0:00:09\n",
      "   -------------- ------------------------- 3.3/9.2 MB 661.5 kB/s eta 0:00:09\n",
      "   -------------- ------------------------- 3.3/9.2 MB 661.5 kB/s eta 0:00:09\n",
      "   -------------- ------------------------- 3.3/9.2 MB 661.5 kB/s eta 0:00:09\n",
      "   -------------- ------------------------- 3.3/9.2 MB 653.3 kB/s eta 0:00:10\n",
      "   -------------- ------------------------- 3.3/9.2 MB 649.3 kB/s eta 0:00:10\n",
      "   -------------- ------------------------- 3.4/9.2 MB 651.3 kB/s eta 0:00:09\n",
      "   -------------- ------------------------- 3.4/9.2 MB 651.3 kB/s eta 0:00:09\n",
      "   -------------- ------------------------- 3.4/9.2 MB 651.3 kB/s eta 0:00:09\n",
      "   --------------- ------------------------ 3.5/9.2 MB 653.4 kB/s eta 0:00:09\n",
      "   --------------- ------------------------ 3.5/9.2 MB 655.3 kB/s eta 0:00:09\n",
      "   --------------- ------------------------ 3.5/9.2 MB 657.2 kB/s eta 0:00:09\n",
      "   --------------- ------------------------ 3.6/9.2 MB 657.3 kB/s eta 0:00:09\n",
      "   --------------- ------------------------ 3.6/9.2 MB 659.1 kB/s eta 0:00:09\n",
      "   --------------- ------------------------ 3.6/9.2 MB 660.9 kB/s eta 0:00:09\n",
      "   --------------- ------------------------ 3.7/9.2 MB 660.9 kB/s eta 0:00:09\n",
      "   ---------------- ----------------------- 3.7/9.2 MB 664.6 kB/s eta 0:00:09\n",
      "   ---------------- ----------------------- 3.7/9.2 MB 664.5 kB/s eta 0:00:09\n",
      "   ---------------- ----------------------- 3.7/9.2 MB 662.6 kB/s eta 0:00:09\n",
      "   ---------------- ----------------------- 3.7/9.2 MB 662.6 kB/s eta 0:00:09\n",
      "   ---------------- ----------------------- 3.7/9.2 MB 662.6 kB/s eta 0:00:09\n",
      "   ---------------- ----------------------- 3.7/9.2 MB 662.6 kB/s eta 0:00:09\n",
      "   ---------------- ----------------------- 3.8/9.2 MB 643.1 kB/s eta 0:00:09\n",
      "   ---------------- ----------------------- 3.8/9.2 MB 648.5 kB/s eta 0:00:09\n",
      "   ---------------- ----------------------- 3.8/9.2 MB 648.5 kB/s eta 0:00:09\n",
      "   ---------------- ----------------------- 3.8/9.2 MB 648.5 kB/s eta 0:00:09\n",
      "   ---------------- ----------------------- 3.8/9.2 MB 648.5 kB/s eta 0:00:09\n",
      "   ---------------- ----------------------- 3.9/9.2 MB 636.8 kB/s eta 0:00:09\n",
      "   ---------------- ----------------------- 3.9/9.2 MB 635.3 kB/s eta 0:00:09\n",
      "   ---------------- ----------------------- 3.9/9.2 MB 635.3 kB/s eta 0:00:09\n",
      "   ---------------- ----------------------- 3.9/9.2 MB 635.3 kB/s eta 0:00:09\n",
      "   ---------------- ----------------------- 3.9/9.2 MB 635.3 kB/s eta 0:00:09\n",
      "   ----------------- ---------------------- 4.0/9.2 MB 626.1 kB/s eta 0:00:09\n",
      "   ----------------- ---------------------- 4.0/9.2 MB 629.4 kB/s eta 0:00:09\n",
      "   ----------------- ---------------------- 4.0/9.2 MB 629.4 kB/s eta 0:00:09\n",
      "   ----------------- ---------------------- 4.0/9.2 MB 629.4 kB/s eta 0:00:09\n",
      "   ----------------- ---------------------- 4.1/9.2 MB 623.9 kB/s eta 0:00:09\n",
      "   ----------------- ---------------------- 4.1/9.2 MB 621.0 kB/s eta 0:00:09\n",
      "   ----------------- ---------------------- 4.1/9.2 MB 619.8 kB/s eta 0:00:09\n",
      "   ------------------ --------------------- 4.1/9.2 MB 621.5 kB/s eta 0:00:09\n",
      "   ------------------ --------------------- 4.2/9.2 MB 621.8 kB/s eta 0:00:09\n",
      "   ------------------ --------------------- 4.2/9.2 MB 621.8 kB/s eta 0:00:09\n",
      "   ------------------ --------------------- 4.2/9.2 MB 621.8 kB/s eta 0:00:09\n",
      "   ------------------ --------------------- 4.2/9.2 MB 621.8 kB/s eta 0:00:09\n",
      "   ------------------ --------------------- 4.2/9.2 MB 603.6 kB/s eta 0:00:09\n",
      "   ------------------ --------------------- 4.3/9.2 MB 611.3 kB/s eta 0:00:09\n",
      "   ------------------ --------------------- 4.3/9.2 MB 607.4 kB/s eta 0:00:09\n",
      "   ------------------ --------------------- 4.3/9.2 MB 604.8 kB/s eta 0:00:09\n",
      "   ------------------ --------------------- 4.3/9.2 MB 605.3 kB/s eta 0:00:09\n",
      "   ------------------- -------------------- 4.4/9.2 MB 605.7 kB/s eta 0:00:08\n",
      "   ------------------- -------------------- 4.5/9.2 MB 610.4 kB/s eta 0:00:08\n",
      "   ------------------- -------------------- 4.5/9.2 MB 606.5 kB/s eta 0:00:08\n",
      "   ------------------- -------------------- 4.5/9.2 MB 608.0 kB/s eta 0:00:08\n",
      "   ------------------- -------------------- 4.5/9.2 MB 607.0 kB/s eta 0:00:08\n",
      "   ------------------- -------------------- 4.5/9.2 MB 603.2 kB/s eta 0:00:08\n",
      "   ------------------- -------------------- 4.6/9.2 MB 609.0 kB/s eta 0:00:08\n",
      "   -------------------- ------------------- 4.6/9.2 MB 606.6 kB/s eta 0:00:08\n",
      "   -------------------- ------------------- 4.6/9.2 MB 605.7 kB/s eta 0:00:08\n",
      "   -------------------- ------------------- 4.7/9.2 MB 607.4 kB/s eta 0:00:08\n",
      "   -------------------- ------------------- 4.7/9.2 MB 610.3 kB/s eta 0:00:08\n",
      "   -------------------- ------------------- 4.8/9.2 MB 613.3 kB/s eta 0:00:08\n",
      "   --------------------- ------------------ 4.8/9.2 MB 616.1 kB/s eta 0:00:08\n",
      "   --------------------- ------------------ 4.8/9.2 MB 614.9 kB/s eta 0:00:08\n",
      "   --------------------- ------------------ 4.9/9.2 MB 615.3 kB/s eta 0:00:07\n",
      "   --------------------- ------------------ 4.9/9.2 MB 617.9 kB/s eta 0:00:07\n",
      "   --------------------- ------------------ 5.0/9.2 MB 618.4 kB/s eta 0:00:07\n",
      "   --------------------- ------------------ 5.0/9.2 MB 619.9 kB/s eta 0:00:07\n",
      "   ---------------------- ----------------- 5.1/9.2 MB 621.3 kB/s eta 0:00:07\n",
      "   ---------------------- ----------------- 5.1/9.2 MB 621.6 kB/s eta 0:00:07\n",
      "   ---------------------- ----------------- 5.2/9.2 MB 625.4 kB/s eta 0:00:07\n",
      "   ---------------------- ----------------- 5.2/9.2 MB 624.4 kB/s eta 0:00:07\n",
      "   ---------------------- ----------------- 5.2/9.2 MB 622.1 kB/s eta 0:00:07\n",
      "   ---------------------- ----------------- 5.3/9.2 MB 624.8 kB/s eta 0:00:07\n",
      "   ---------------------- ----------------- 5.3/9.2 MB 623.8 kB/s eta 0:00:07\n",
      "   ---------------------- ----------------- 5.3/9.2 MB 623.8 kB/s eta 0:00:07\n",
      "   ----------------------- ---------------- 5.3/9.2 MB 624.1 kB/s eta 0:00:07\n",
      "   ----------------------- ---------------- 5.4/9.2 MB 624.2 kB/s eta 0:00:07\n",
      "   ----------------------- ---------------- 5.4/9.2 MB 622.1 kB/s eta 0:00:07\n",
      "   ----------------------- ---------------- 5.4/9.2 MB 622.1 kB/s eta 0:00:07\n",
      "   ----------------------- ---------------- 5.4/9.2 MB 620.1 kB/s eta 0:00:07\n",
      "   ----------------------- ---------------- 5.4/9.2 MB 620.1 kB/s eta 0:00:07\n",
      "   ----------------------- ---------------- 5.4/9.2 MB 620.1 kB/s eta 0:00:07\n",
      "   ----------------------- ---------------- 5.4/9.2 MB 620.1 kB/s eta 0:00:07\n",
      "   ----------------------- ---------------- 5.4/9.2 MB 620.1 kB/s eta 0:00:07\n",
      "   ------------------------ --------------- 5.5/9.2 MB 619.8 kB/s eta 0:00:06\n",
      "   ------------------------ --------------- 5.6/9.2 MB 617.7 kB/s eta 0:00:06\n",
      "   ------------------------ --------------- 5.6/9.2 MB 616.9 kB/s eta 0:00:06\n",
      "   ------------------------ --------------- 5.6/9.2 MB 617.0 kB/s eta 0:00:06\n",
      "   ------------------------ --------------- 5.6/9.2 MB 617.0 kB/s eta 0:00:06\n",
      "   ------------------------ --------------- 5.6/9.2 MB 614.0 kB/s eta 0:00:06\n",
      "   ------------------------ --------------- 5.7/9.2 MB 612.0 kB/s eta 0:00:06\n",
      "   ------------------------ --------------- 5.7/9.2 MB 612.0 kB/s eta 0:00:06\n",
      "   ------------------------ --------------- 5.7/9.2 MB 610.1 kB/s eta 0:00:06\n",
      "   ------------------------ --------------- 5.7/9.2 MB 607.2 kB/s eta 0:00:06\n",
      "   ------------------------ --------------- 5.7/9.2 MB 607.5 kB/s eta 0:00:06\n",
      "   ------------------------ --------------- 5.7/9.2 MB 607.6 kB/s eta 0:00:06\n",
      "   ------------------------- -------------- 5.8/9.2 MB 605.7 kB/s eta 0:00:06\n",
      "   ------------------------- -------------- 5.8/9.2 MB 604.9 kB/s eta 0:00:06\n",
      "   ------------------------- -------------- 5.8/9.2 MB 606.0 kB/s eta 0:00:06\n",
      "   ------------------------- -------------- 5.8/9.2 MB 605.1 kB/s eta 0:00:06\n",
      "   ------------------------- -------------- 5.8/9.2 MB 603.3 kB/s eta 0:00:06\n",
      "   ------------------------- -------------- 5.8/9.2 MB 603.3 kB/s eta 0:00:06\n",
      "   ------------------------- -------------- 5.9/9.2 MB 598.7 kB/s eta 0:00:06\n",
      "   ------------------------- -------------- 5.9/9.2 MB 598.7 kB/s eta 0:00:06\n",
      "   ------------------------- -------------- 5.9/9.2 MB 597.1 kB/s eta 0:00:06\n",
      "   ------------------------- -------------- 5.9/9.2 MB 597.1 kB/s eta 0:00:06\n",
      "   ------------------------- -------------- 5.9/9.2 MB 594.5 kB/s eta 0:00:06\n",
      "   ------------------------- -------------- 5.9/9.2 MB 596.6 kB/s eta 0:00:06\n",
      "   ------------------------- -------------- 5.9/9.2 MB 596.6 kB/s eta 0:00:06\n",
      "   ------------------------- -------------- 6.0/9.2 MB 592.2 kB/s eta 0:00:06\n",
      "   ------------------------- -------------- 6.0/9.2 MB 589.5 kB/s eta 0:00:06\n",
      "   -------------------------- ------------- 6.0/9.2 MB 588.8 kB/s eta 0:00:06\n",
      "   -------------------------- ------------- 6.0/9.2 MB 587.1 kB/s eta 0:00:06\n",
      "   -------------------------- ------------- 6.0/9.2 MB 587.1 kB/s eta 0:00:06\n",
      "   -------------------------- ------------- 6.0/9.2 MB 587.1 kB/s eta 0:00:06\n",
      "   -------------------------- ------------- 6.0/9.2 MB 587.1 kB/s eta 0:00:06\n",
      "   -------------------------- ------------- 6.0/9.2 MB 581.1 kB/s eta 0:00:06\n",
      "   -------------------------- ------------- 6.0/9.2 MB 581.1 kB/s eta 0:00:06\n",
      "   -------------------------- ------------- 6.0/9.2 MB 581.1 kB/s eta 0:00:06\n",
      "   -------------------------- ------------- 6.0/9.2 MB 574.4 kB/s eta 0:00:06\n",
      "   -------------------------- ------------- 6.0/9.2 MB 574.4 kB/s eta 0:00:06\n",
      "   -------------------------- ------------- 6.1/9.2 MB 571.1 kB/s eta 0:00:06\n",
      "   -------------------------- ------------- 6.1/9.2 MB 571.1 kB/s eta 0:00:06\n",
      "   -------------------------- ------------- 6.1/9.2 MB 568.0 kB/s eta 0:00:06\n",
      "   -------------------------- ------------- 6.1/9.2 MB 568.0 kB/s eta 0:00:06\n",
      "   -------------------------- ------------- 6.1/9.2 MB 568.0 kB/s eta 0:00:06\n",
      "   -------------------------- ------------- 6.1/9.2 MB 562.4 kB/s eta 0:00:06\n",
      "   -------------------------- ------------- 6.1/9.2 MB 561.9 kB/s eta 0:00:06\n",
      "   -------------------------- ------------- 6.1/9.2 MB 561.5 kB/s eta 0:00:06\n",
      "   -------------------------- ------------- 6.2/9.2 MB 560.9 kB/s eta 0:00:06\n",
      "   -------------------------- ------------- 6.2/9.2 MB 560.2 kB/s eta 0:00:06\n",
      "   -------------------------- ------------- 6.2/9.2 MB 559.8 kB/s eta 0:00:06\n",
      "   -------------------------- ------------- 6.2/9.2 MB 559.8 kB/s eta 0:00:06\n",
      "   --------------------------- ------------ 6.2/9.2 MB 556.2 kB/s eta 0:00:06\n",
      "   --------------------------- ------------ 6.2/9.2 MB 558.1 kB/s eta 0:00:06\n",
      "   --------------------------- ------------ 6.2/9.2 MB 556.6 kB/s eta 0:00:06\n",
      "   --------------------------- ------------ 6.2/9.2 MB 556.6 kB/s eta 0:00:06\n",
      "   --------------------------- ------------ 6.3/9.2 MB 551.4 kB/s eta 0:00:06\n",
      "   --------------------------- ------------ 6.3/9.2 MB 553.6 kB/s eta 0:00:06\n",
      "   --------------------------- ------------ 6.3/9.2 MB 552.3 kB/s eta 0:00:06\n",
      "   --------------------------- ------------ 6.3/9.2 MB 553.3 kB/s eta 0:00:06\n",
      "   --------------------------- ------------ 6.4/9.2 MB 553.0 kB/s eta 0:00:06\n",
      "   --------------------------- ------------ 6.4/9.2 MB 553.0 kB/s eta 0:00:06\n",
      "   --------------------------- ------------ 6.4/9.2 MB 551.9 kB/s eta 0:00:06\n",
      "   --------------------------- ------------ 6.4/9.2 MB 551.9 kB/s eta 0:00:06\n",
      "   --------------------------- ------------ 6.4/9.2 MB 551.9 kB/s eta 0:00:06\n",
      "   --------------------------- ------------ 6.4/9.2 MB 548.4 kB/s eta 0:00:06\n",
      "   --------------------------- ------------ 6.4/9.2 MB 548.4 kB/s eta 0:00:06\n",
      "   ---------------------------- ----------- 6.5/9.2 MB 546.0 kB/s eta 0:00:06\n",
      "   ---------------------------- ----------- 6.5/9.2 MB 546.4 kB/s eta 0:00:05\n",
      "   ---------------------------- ----------- 6.5/9.2 MB 547.4 kB/s eta 0:00:05\n",
      "   ---------------------------- ----------- 6.5/9.2 MB 545.4 kB/s eta 0:00:05\n",
      "   ---------------------------- ----------- 6.5/9.2 MB 545.0 kB/s eta 0:00:05\n",
      "   ---------------------------- ----------- 6.6/9.2 MB 544.7 kB/s eta 0:00:05\n",
      "   ---------------------------- ----------- 6.6/9.2 MB 545.7 kB/s eta 0:00:05\n",
      "   ---------------------------- ----------- 6.6/9.2 MB 544.7 kB/s eta 0:00:05\n",
      "   ---------------------------- ----------- 6.6/9.2 MB 545.9 kB/s eta 0:00:05\n",
      "   ----------------------------- ---------- 6.7/9.2 MB 547.0 kB/s eta 0:00:05\n",
      "   ----------------------------- ---------- 6.7/9.2 MB 547.6 kB/s eta 0:00:05\n",
      "   ----------------------------- ---------- 6.8/9.2 MB 548.8 kB/s eta 0:00:05\n",
      "   ----------------------------- ---------- 6.8/9.2 MB 550.1 kB/s eta 0:00:05\n",
      "   ----------------------------- ---------- 6.9/9.2 MB 552.0 kB/s eta 0:00:05\n",
      "   ----------------------------- ---------- 6.9/9.2 MB 552.4 kB/s eta 0:00:05\n",
      "   ------------------------------ --------- 6.9/9.2 MB 554.4 kB/s eta 0:00:05\n",
      "   ------------------------------ --------- 7.0/9.2 MB 554.2 kB/s eta 0:00:05\n",
      "   ------------------------------ --------- 7.0/9.2 MB 556.9 kB/s eta 0:00:04\n",
      "   ------------------------------ --------- 7.0/9.2 MB 556.4 kB/s eta 0:00:04\n",
      "   ------------------------------ --------- 7.1/9.2 MB 556.7 kB/s eta 0:00:04\n",
      "   ------------------------------ --------- 7.1/9.2 MB 558.7 kB/s eta 0:00:04\n",
      "   ------------------------------- -------- 7.1/9.2 MB 559.1 kB/s eta 0:00:04\n",
      "   ------------------------------- -------- 7.2/9.2 MB 561.0 kB/s eta 0:00:04\n",
      "   ------------------------------- -------- 7.2/9.2 MB 561.4 kB/s eta 0:00:04\n",
      "   ------------------------------- -------- 7.3/9.2 MB 563.2 kB/s eta 0:00:04\n",
      "   ------------------------------- -------- 7.3/9.2 MB 564.3 kB/s eta 0:00:04\n",
      "   ------------------------------- -------- 7.3/9.2 MB 564.6 kB/s eta 0:00:04\n",
      "   -------------------------------- ------- 7.4/9.2 MB 566.6 kB/s eta 0:00:04\n",
      "   -------------------------------- ------- 7.4/9.2 MB 567.5 kB/s eta 0:00:04\n",
      "   -------------------------------- ------- 7.5/9.2 MB 568.8 kB/s eta 0:00:04\n",
      "   -------------------------------- ------- 7.5/9.2 MB 568.2 kB/s eta 0:00:04\n",
      "   -------------------------------- ------- 7.5/9.2 MB 569.4 kB/s eta 0:00:03\n",
      "   -------------------------------- ------- 7.6/9.2 MB 571.0 kB/s eta 0:00:03\n",
      "   --------------------------------- ------ 7.6/9.2 MB 571.4 kB/s eta 0:00:03\n",
      "   --------------------------------- ------ 7.6/9.2 MB 571.4 kB/s eta 0:00:03\n",
      "   --------------------------------- ------ 7.7/9.2 MB 572.0 kB/s eta 0:00:03\n",
      "   --------------------------------- ------ 7.7/9.2 MB 572.9 kB/s eta 0:00:03\n",
      "   --------------------------------- ------ 7.7/9.2 MB 571.0 kB/s eta 0:00:03\n",
      "   --------------------------------- ------ 7.7/9.2 MB 571.2 kB/s eta 0:00:03\n",
      "   --------------------------------- ------ 7.8/9.2 MB 573.0 kB/s eta 0:00:03\n",
      "   --------------------------------- ------ 7.8/9.2 MB 573.0 kB/s eta 0:00:03\n",
      "   ---------------------------------- ----- 7.8/9.2 MB 573.6 kB/s eta 0:00:03\n",
      "   ---------------------------------- ----- 7.8/9.2 MB 573.6 kB/s eta 0:00:03\n",
      "   ---------------------------------- ----- 7.9/9.2 MB 572.6 kB/s eta 0:00:03\n",
      "   ---------------------------------- ----- 7.9/9.2 MB 572.9 kB/s eta 0:00:03\n",
      "   ---------------------------------- ----- 8.0/9.2 MB 574.6 kB/s eta 0:00:03\n",
      "   ---------------------------------- ----- 8.0/9.2 MB 574.9 kB/s eta 0:00:03\n",
      "   ---------------------------------- ----- 8.0/9.2 MB 575.8 kB/s eta 0:00:03\n",
      "   ----------------------------------- ---- 8.1/9.2 MB 577.6 kB/s eta 0:00:02\n",
      "   ----------------------------------- ---- 8.1/9.2 MB 578.4 kB/s eta 0:00:02\n",
      "   ----------------------------------- ---- 8.2/9.2 MB 579.5 kB/s eta 0:00:02\n",
      "   ----------------------------------- ---- 8.2/9.2 MB 578.3 kB/s eta 0:00:02\n",
      "   ----------------------------------- ---- 8.2/9.2 MB 580.5 kB/s eta 0:00:02\n",
      "   ----------------------------------- ---- 8.2/9.2 MB 580.5 kB/s eta 0:00:02\n",
      "   ----------------------------------- ---- 8.2/9.2 MB 578.3 kB/s eta 0:00:02\n",
      "   ----------------------------------- ---- 8.3/9.2 MB 579.2 kB/s eta 0:00:02\n",
      "   ------------------------------------ --- 8.3/9.2 MB 580.3 kB/s eta 0:00:02\n",
      "   ------------------------------------ --- 8.3/9.2 MB 580.4 kB/s eta 0:00:02\n",
      "   ------------------------------------ --- 8.3/9.2 MB 580.4 kB/s eta 0:00:02\n",
      "   ------------------------------------ --- 8.3/9.2 MB 580.4 kB/s eta 0:00:02\n",
      "   ------------------------------------ --- 8.3/9.2 MB 580.4 kB/s eta 0:00:02\n",
      "   ------------------------------------ --- 8.3/9.2 MB 580.4 kB/s eta 0:00:02\n",
      "   ------------------------------------- -- 8.5/9.2 MB 585.0 kB/s eta 0:00:02\n",
      "   ------------------------------------- -- 8.6/9.2 MB 584.5 kB/s eta 0:00:02\n",
      "   ------------------------------------- -- 8.6/9.2 MB 584.8 kB/s eta 0:00:02\n",
      "   ------------------------------------- -- 8.6/9.2 MB 585.0 kB/s eta 0:00:01\n",
      "   ------------------------------------- -- 8.6/9.2 MB 585.2 kB/s eta 0:00:01\n",
      "   ------------------------------------- -- 8.7/9.2 MB 585.5 kB/s eta 0:00:01\n",
      "   ------------------------------------- -- 8.7/9.2 MB 586.3 kB/s eta 0:00:01\n",
      "   -------------------------------------- - 8.7/9.2 MB 586.5 kB/s eta 0:00:01\n",
      "   -------------------------------------- - 8.8/9.2 MB 586.7 kB/s eta 0:00:01\n",
      "   -------------------------------------- - 8.8/9.2 MB 587.6 kB/s eta 0:00:01\n",
      "   -------------------------------------- - 8.8/9.2 MB 587.8 kB/s eta 0:00:01\n",
      "   -------------------------------------- - 8.9/9.2 MB 588.0 kB/s eta 0:00:01\n",
      "   -------------------------------------- - 8.9/9.2 MB 588.2 kB/s eta 0:00:01\n",
      "   -------------------------------------- - 8.9/9.2 MB 589.1 kB/s eta 0:00:01\n",
      "   -------------------------------------- - 9.0/9.2 MB 589.9 kB/s eta 0:00:01\n",
      "   ---------------------------------------  9.0/9.2 MB 589.5 kB/s eta 0:00:01\n",
      "   ---------------------------------------  9.0/9.2 MB 590.4 kB/s eta 0:00:01\n",
      "   ---------------------------------------  9.1/9.2 MB 591.1 kB/s eta 0:00:01\n",
      "   ---------------------------------------  9.1/9.2 MB 590.8 kB/s eta 0:00:01\n",
      "   ---------------------------------------  9.1/9.2 MB 590.2 kB/s eta 0:00:01\n",
      "   ---------------------------------------  9.1/9.2 MB 590.5 kB/s eta 0:00:01\n",
      "   ---------------------------------------  9.1/9.2 MB 590.5 kB/s eta 0:00:01\n",
      "   ---------------------------------------  9.2/9.2 MB 588.8 kB/s eta 0:00:01\n",
      "   ---------------------------------------  9.2/9.2 MB 589.0 kB/s eta 0:00:01\n",
      "   ---------------------------------------  9.2/9.2 MB 589.0 kB/s eta 0:00:01\n",
      "   ---------------------------------------- 9.2/9.2 MB 586.0 kB/s eta 0:00:00\n",
      "Downloading joblib-1.3.1-py3-none-any.whl (301 kB)\n",
      "   ---------------------------------------- 0.0/302.0 kB ? eta -:--:--\n",
      "   ---- ----------------------------------- 30.7/302.0 kB 1.3 MB/s eta 0:00:01\n",
      "   -------- ------------------------------- 61.4/302.0 kB 1.1 MB/s eta 0:00:01\n",
      "   ----------- --------------------------- 92.2/302.0 kB 744.7 kB/s eta 0:00:01\n",
      "   ------------------ ------------------- 143.4/302.0 kB 774.0 kB/s eta 0:00:01\n",
      "   ----------------------- -------------- 184.3/302.0 kB 794.9 kB/s eta 0:00:01\n",
      "   ---------------------------- --------- 225.3/302.0 kB 808.4 kB/s eta 0:00:01\n",
      "   ------------------------------ ------- 245.8/302.0 kB 835.2 kB/s eta 0:00:01\n",
      "   -------------------------------------  297.0/302.0 kB 833.5 kB/s eta 0:00:01\n",
      "   -------------------------------------- 302.0/302.0 kB 810.3 kB/s eta 0:00:00\n",
      "Downloading threadpoolctl-3.2.0-py3-none-any.whl (15 kB)\n",
      "Installing collected packages: threadpoolctl, joblib, scikit-learn\n",
      "Successfully installed joblib-1.3.1 scikit-learn-1.3.0 threadpoolctl-3.2.0\n"
     ]
    },
    {
     "name": "stderr",
     "output_type": "stream",
     "text": [
      "\n",
      "[notice] A new release of pip is available: 23.2 -> 23.2.1\n",
      "[notice] To update, run: python.exe -m pip install --upgrade pip\n"
     ]
    }
   ],
   "source": [
    "pip install scikit-learn\n"
   ]
  },
  {
   "cell_type": "code",
   "execution_count": 12,
   "metadata": {},
   "outputs": [
    {
     "ename": "ValueError",
     "evalue": "could not convert string to float: 'male'",
     "output_type": "error",
     "traceback": [
      "\u001b[1;31m---------------------------------------------------------------------------\u001b[0m",
      "\u001b[1;31mValueError\u001b[0m                                Traceback (most recent call last)",
      "\u001b[1;32m~\\AppData\\Local\\Temp\\ipykernel_13060\\67696983.py\u001b[0m in \u001b[0;36m?\u001b[1;34m()\u001b[0m\n\u001b[0;32m     18\u001b[0m     \u001b[0mX\u001b[0m \u001b[1;33m=\u001b[0m \u001b[0mdf\u001b[0m\u001b[1;33m.\u001b[0m\u001b[0mdrop\u001b[0m\u001b[1;33m(\u001b[0m\u001b[0mcolumn_name\u001b[0m\u001b[1;33m,\u001b[0m \u001b[0maxis\u001b[0m\u001b[1;33m=\u001b[0m\u001b[1;36m1\u001b[0m\u001b[1;33m)\u001b[0m\u001b[1;33m\u001b[0m\u001b[1;33m\u001b[0m\u001b[0m\n\u001b[0;32m     19\u001b[0m \u001b[1;33m\u001b[0m\u001b[0m\n\u001b[0;32m     20\u001b[0m     \u001b[1;31m# Create and train the Linear Regression model\u001b[0m\u001b[1;33m\u001b[0m\u001b[1;33m\u001b[0m\u001b[0m\n\u001b[0;32m     21\u001b[0m     \u001b[0mmodel\u001b[0m \u001b[1;33m=\u001b[0m \u001b[0mLinearRegression\u001b[0m\u001b[1;33m(\u001b[0m\u001b[1;33m)\u001b[0m\u001b[1;33m\u001b[0m\u001b[1;33m\u001b[0m\u001b[0m\n\u001b[1;32m---> 22\u001b[1;33m     \u001b[0mmodel\u001b[0m\u001b[1;33m.\u001b[0m\u001b[0mfit\u001b[0m\u001b[1;33m(\u001b[0m\u001b[0mX\u001b[0m\u001b[1;33m,\u001b[0m \u001b[0my\u001b[0m\u001b[1;33m)\u001b[0m\u001b[1;33m\u001b[0m\u001b[1;33m\u001b[0m\u001b[0m\n\u001b[0m\u001b[0;32m     23\u001b[0m \u001b[1;33m\u001b[0m\u001b[0m\n\u001b[0;32m     24\u001b[0m     \u001b[1;31m# Print the header of the chosen column\u001b[0m\u001b[1;33m\u001b[0m\u001b[1;33m\u001b[0m\u001b[0m\n\u001b[0;32m     25\u001b[0m     \u001b[0mprint\u001b[0m\u001b[1;33m(\u001b[0m\u001b[1;34mf\"Column '{column_name}' values and their predicted boot sizes:\"\u001b[0m\u001b[1;33m)\u001b[0m\u001b[1;33m\u001b[0m\u001b[1;33m\u001b[0m\u001b[0m\n",
      "\u001b[1;32mc:\\Users\\Administrator\\AppData\\Local\\Programs\\Python\\Python311\\Lib\\site-packages\\sklearn\\base.py\u001b[0m in \u001b[0;36m?\u001b[1;34m(estimator, *args, **kwargs)\u001b[0m\n\u001b[0;32m   1147\u001b[0m                 skip_parameter_validation=(\n\u001b[0;32m   1148\u001b[0m                     \u001b[0mprefer_skip_nested_validation\u001b[0m \u001b[1;32mor\u001b[0m \u001b[0mglobal_skip_validation\u001b[0m\u001b[1;33m\u001b[0m\u001b[1;33m\u001b[0m\u001b[0m\n\u001b[0;32m   1149\u001b[0m                 )\n\u001b[0;32m   1150\u001b[0m             ):\n\u001b[1;32m-> 1151\u001b[1;33m                 \u001b[1;32mreturn\u001b[0m \u001b[0mfit_method\u001b[0m\u001b[1;33m(\u001b[0m\u001b[0mestimator\u001b[0m\u001b[1;33m,\u001b[0m \u001b[1;33m*\u001b[0m\u001b[0margs\u001b[0m\u001b[1;33m,\u001b[0m \u001b[1;33m**\u001b[0m\u001b[0mkwargs\u001b[0m\u001b[1;33m)\u001b[0m\u001b[1;33m\u001b[0m\u001b[1;33m\u001b[0m\u001b[0m\n\u001b[0m",
      "\u001b[1;32mc:\\Users\\Administrator\\AppData\\Local\\Programs\\Python\\Python311\\Lib\\site-packages\\sklearn\\linear_model\\_base.py\u001b[0m in \u001b[0;36m?\u001b[1;34m(self, X, y, sample_weight)\u001b[0m\n\u001b[0;32m    674\u001b[0m         \u001b[0mn_jobs_\u001b[0m \u001b[1;33m=\u001b[0m \u001b[0mself\u001b[0m\u001b[1;33m.\u001b[0m\u001b[0mn_jobs\u001b[0m\u001b[1;33m\u001b[0m\u001b[1;33m\u001b[0m\u001b[0m\n\u001b[0;32m    675\u001b[0m \u001b[1;33m\u001b[0m\u001b[0m\n\u001b[0;32m    676\u001b[0m         \u001b[0maccept_sparse\u001b[0m \u001b[1;33m=\u001b[0m \u001b[1;32mFalse\u001b[0m \u001b[1;32mif\u001b[0m \u001b[0mself\u001b[0m\u001b[1;33m.\u001b[0m\u001b[0mpositive\u001b[0m \u001b[1;32melse\u001b[0m \u001b[1;33m[\u001b[0m\u001b[1;34m\"csr\"\u001b[0m\u001b[1;33m,\u001b[0m \u001b[1;34m\"csc\"\u001b[0m\u001b[1;33m,\u001b[0m \u001b[1;34m\"coo\"\u001b[0m\u001b[1;33m]\u001b[0m\u001b[1;33m\u001b[0m\u001b[1;33m\u001b[0m\u001b[0m\n\u001b[0;32m    677\u001b[0m \u001b[1;33m\u001b[0m\u001b[0m\n\u001b[1;32m--> 678\u001b[1;33m         X, y = self._validate_data(\n\u001b[0m\u001b[0;32m    679\u001b[0m             \u001b[0mX\u001b[0m\u001b[1;33m,\u001b[0m \u001b[0my\u001b[0m\u001b[1;33m,\u001b[0m \u001b[0maccept_sparse\u001b[0m\u001b[1;33m=\u001b[0m\u001b[0maccept_sparse\u001b[0m\u001b[1;33m,\u001b[0m \u001b[0my_numeric\u001b[0m\u001b[1;33m=\u001b[0m\u001b[1;32mTrue\u001b[0m\u001b[1;33m,\u001b[0m \u001b[0mmulti_output\u001b[0m\u001b[1;33m=\u001b[0m\u001b[1;32mTrue\u001b[0m\u001b[1;33m\u001b[0m\u001b[1;33m\u001b[0m\u001b[0m\n\u001b[0;32m    680\u001b[0m         )\n\u001b[0;32m    681\u001b[0m \u001b[1;33m\u001b[0m\u001b[0m\n",
      "\u001b[1;32mc:\\Users\\Administrator\\AppData\\Local\\Programs\\Python\\Python311\\Lib\\site-packages\\sklearn\\base.py\u001b[0m in \u001b[0;36m?\u001b[1;34m(self, X, y, reset, validate_separately, cast_to_ndarray, **check_params)\u001b[0m\n\u001b[0;32m    617\u001b[0m                 \u001b[1;32mif\u001b[0m \u001b[1;34m\"estimator\"\u001b[0m \u001b[1;32mnot\u001b[0m \u001b[1;32min\u001b[0m \u001b[0mcheck_y_params\u001b[0m\u001b[1;33m:\u001b[0m\u001b[1;33m\u001b[0m\u001b[1;33m\u001b[0m\u001b[0m\n\u001b[0;32m    618\u001b[0m                     \u001b[0mcheck_y_params\u001b[0m \u001b[1;33m=\u001b[0m \u001b[1;33m{\u001b[0m\u001b[1;33m**\u001b[0m\u001b[0mdefault_check_params\u001b[0m\u001b[1;33m,\u001b[0m \u001b[1;33m**\u001b[0m\u001b[0mcheck_y_params\u001b[0m\u001b[1;33m}\u001b[0m\u001b[1;33m\u001b[0m\u001b[1;33m\u001b[0m\u001b[0m\n\u001b[0;32m    619\u001b[0m                 \u001b[0my\u001b[0m \u001b[1;33m=\u001b[0m \u001b[0mcheck_array\u001b[0m\u001b[1;33m(\u001b[0m\u001b[0my\u001b[0m\u001b[1;33m,\u001b[0m \u001b[0minput_name\u001b[0m\u001b[1;33m=\u001b[0m\u001b[1;34m\"y\"\u001b[0m\u001b[1;33m,\u001b[0m \u001b[1;33m**\u001b[0m\u001b[0mcheck_y_params\u001b[0m\u001b[1;33m)\u001b[0m\u001b[1;33m\u001b[0m\u001b[1;33m\u001b[0m\u001b[0m\n\u001b[0;32m    620\u001b[0m             \u001b[1;32melse\u001b[0m\u001b[1;33m:\u001b[0m\u001b[1;33m\u001b[0m\u001b[1;33m\u001b[0m\u001b[0m\n\u001b[1;32m--> 621\u001b[1;33m                 \u001b[0mX\u001b[0m\u001b[1;33m,\u001b[0m \u001b[0my\u001b[0m \u001b[1;33m=\u001b[0m \u001b[0mcheck_X_y\u001b[0m\u001b[1;33m(\u001b[0m\u001b[0mX\u001b[0m\u001b[1;33m,\u001b[0m \u001b[0my\u001b[0m\u001b[1;33m,\u001b[0m \u001b[1;33m**\u001b[0m\u001b[0mcheck_params\u001b[0m\u001b[1;33m)\u001b[0m\u001b[1;33m\u001b[0m\u001b[1;33m\u001b[0m\u001b[0m\n\u001b[0m\u001b[0;32m    622\u001b[0m             \u001b[0mout\u001b[0m \u001b[1;33m=\u001b[0m \u001b[0mX\u001b[0m\u001b[1;33m,\u001b[0m \u001b[0my\u001b[0m\u001b[1;33m\u001b[0m\u001b[1;33m\u001b[0m\u001b[0m\n\u001b[0;32m    623\u001b[0m \u001b[1;33m\u001b[0m\u001b[0m\n\u001b[0;32m    624\u001b[0m         \u001b[1;32mif\u001b[0m \u001b[1;32mnot\u001b[0m \u001b[0mno_val_X\u001b[0m \u001b[1;32mand\u001b[0m \u001b[0mcheck_params\u001b[0m\u001b[1;33m.\u001b[0m\u001b[0mget\u001b[0m\u001b[1;33m(\u001b[0m\u001b[1;34m\"ensure_2d\"\u001b[0m\u001b[1;33m,\u001b[0m \u001b[1;32mTrue\u001b[0m\u001b[1;33m)\u001b[0m\u001b[1;33m:\u001b[0m\u001b[1;33m\u001b[0m\u001b[1;33m\u001b[0m\u001b[0m\n",
      "\u001b[1;32mc:\\Users\\Administrator\\AppData\\Local\\Programs\\Python\\Python311\\Lib\\site-packages\\sklearn\\utils\\validation.py\u001b[0m in \u001b[0;36m?\u001b[1;34m(X, y, accept_sparse, accept_large_sparse, dtype, order, copy, force_all_finite, ensure_2d, allow_nd, multi_output, ensure_min_samples, ensure_min_features, y_numeric, estimator)\u001b[0m\n\u001b[0;32m   1143\u001b[0m         raise ValueError(\n\u001b[0;32m   1144\u001b[0m             \u001b[1;34mf\"{estimator_name} requires y to be passed, but the target y is None\"\u001b[0m\u001b[1;33m\u001b[0m\u001b[1;33m\u001b[0m\u001b[0m\n\u001b[0;32m   1145\u001b[0m         )\n\u001b[0;32m   1146\u001b[0m \u001b[1;33m\u001b[0m\u001b[0m\n\u001b[1;32m-> 1147\u001b[1;33m     X = check_array(\n\u001b[0m\u001b[0;32m   1148\u001b[0m         \u001b[0mX\u001b[0m\u001b[1;33m,\u001b[0m\u001b[1;33m\u001b[0m\u001b[1;33m\u001b[0m\u001b[0m\n\u001b[0;32m   1149\u001b[0m         \u001b[0maccept_sparse\u001b[0m\u001b[1;33m=\u001b[0m\u001b[0maccept_sparse\u001b[0m\u001b[1;33m,\u001b[0m\u001b[1;33m\u001b[0m\u001b[1;33m\u001b[0m\u001b[0m\n\u001b[0;32m   1150\u001b[0m         \u001b[0maccept_large_sparse\u001b[0m\u001b[1;33m=\u001b[0m\u001b[0maccept_large_sparse\u001b[0m\u001b[1;33m,\u001b[0m\u001b[1;33m\u001b[0m\u001b[1;33m\u001b[0m\u001b[0m\n",
      "\u001b[1;32mc:\\Users\\Administrator\\AppData\\Local\\Programs\\Python\\Python311\\Lib\\site-packages\\sklearn\\utils\\validation.py\u001b[0m in \u001b[0;36m?\u001b[1;34m(array, accept_sparse, accept_large_sparse, dtype, order, copy, force_all_finite, ensure_2d, allow_nd, ensure_min_samples, ensure_min_features, estimator, input_name)\u001b[0m\n\u001b[0;32m    914\u001b[0m                         )\n\u001b[0;32m    915\u001b[0m                     \u001b[0marray\u001b[0m \u001b[1;33m=\u001b[0m \u001b[0mxp\u001b[0m\u001b[1;33m.\u001b[0m\u001b[0mastype\u001b[0m\u001b[1;33m(\u001b[0m\u001b[0marray\u001b[0m\u001b[1;33m,\u001b[0m \u001b[0mdtype\u001b[0m\u001b[1;33m,\u001b[0m \u001b[0mcopy\u001b[0m\u001b[1;33m=\u001b[0m\u001b[1;32mFalse\u001b[0m\u001b[1;33m)\u001b[0m\u001b[1;33m\u001b[0m\u001b[1;33m\u001b[0m\u001b[0m\n\u001b[0;32m    916\u001b[0m                 \u001b[1;32melse\u001b[0m\u001b[1;33m:\u001b[0m\u001b[1;33m\u001b[0m\u001b[1;33m\u001b[0m\u001b[0m\n\u001b[0;32m    917\u001b[0m                     \u001b[0marray\u001b[0m \u001b[1;33m=\u001b[0m \u001b[0m_asarray_with_order\u001b[0m\u001b[1;33m(\u001b[0m\u001b[0marray\u001b[0m\u001b[1;33m,\u001b[0m \u001b[0morder\u001b[0m\u001b[1;33m=\u001b[0m\u001b[0morder\u001b[0m\u001b[1;33m,\u001b[0m \u001b[0mdtype\u001b[0m\u001b[1;33m=\u001b[0m\u001b[0mdtype\u001b[0m\u001b[1;33m,\u001b[0m \u001b[0mxp\u001b[0m\u001b[1;33m=\u001b[0m\u001b[0mxp\u001b[0m\u001b[1;33m)\u001b[0m\u001b[1;33m\u001b[0m\u001b[1;33m\u001b[0m\u001b[0m\n\u001b[1;32m--> 918\u001b[1;33m             \u001b[1;32mexcept\u001b[0m \u001b[0mComplexWarning\u001b[0m \u001b[1;32mas\u001b[0m \u001b[0mcomplex_warning\u001b[0m\u001b[1;33m:\u001b[0m\u001b[1;33m\u001b[0m\u001b[1;33m\u001b[0m\u001b[0m\n\u001b[0m\u001b[0;32m    919\u001b[0m                 raise ValueError(\n\u001b[0;32m    920\u001b[0m                     \u001b[1;34m\"Complex data not supported\\n{}\\n\"\u001b[0m\u001b[1;33m.\u001b[0m\u001b[0mformat\u001b[0m\u001b[1;33m(\u001b[0m\u001b[0marray\u001b[0m\u001b[1;33m)\u001b[0m\u001b[1;33m\u001b[0m\u001b[1;33m\u001b[0m\u001b[0m\n\u001b[0;32m    921\u001b[0m                 ) from complex_warning\n",
      "\u001b[1;32mc:\\Users\\Administrator\\AppData\\Local\\Programs\\Python\\Python311\\Lib\\site-packages\\sklearn\\utils\\_array_api.py\u001b[0m in \u001b[0;36m?\u001b[1;34m(array, dtype, order, copy, xp)\u001b[0m\n\u001b[0;32m    376\u001b[0m         \u001b[1;31m# Use NumPy API to support order\u001b[0m\u001b[1;33m\u001b[0m\u001b[1;33m\u001b[0m\u001b[0m\n\u001b[0;32m    377\u001b[0m         \u001b[1;32mif\u001b[0m \u001b[0mcopy\u001b[0m \u001b[1;32mis\u001b[0m \u001b[1;32mTrue\u001b[0m\u001b[1;33m:\u001b[0m\u001b[1;33m\u001b[0m\u001b[1;33m\u001b[0m\u001b[0m\n\u001b[0;32m    378\u001b[0m             \u001b[0marray\u001b[0m \u001b[1;33m=\u001b[0m \u001b[0mnumpy\u001b[0m\u001b[1;33m.\u001b[0m\u001b[0marray\u001b[0m\u001b[1;33m(\u001b[0m\u001b[0marray\u001b[0m\u001b[1;33m,\u001b[0m \u001b[0morder\u001b[0m\u001b[1;33m=\u001b[0m\u001b[0morder\u001b[0m\u001b[1;33m,\u001b[0m \u001b[0mdtype\u001b[0m\u001b[1;33m=\u001b[0m\u001b[0mdtype\u001b[0m\u001b[1;33m)\u001b[0m\u001b[1;33m\u001b[0m\u001b[1;33m\u001b[0m\u001b[0m\n\u001b[0;32m    379\u001b[0m         \u001b[1;32melse\u001b[0m\u001b[1;33m:\u001b[0m\u001b[1;33m\u001b[0m\u001b[1;33m\u001b[0m\u001b[0m\n\u001b[1;32m--> 380\u001b[1;33m             \u001b[0marray\u001b[0m \u001b[1;33m=\u001b[0m \u001b[0mnumpy\u001b[0m\u001b[1;33m.\u001b[0m\u001b[0masarray\u001b[0m\u001b[1;33m(\u001b[0m\u001b[0marray\u001b[0m\u001b[1;33m,\u001b[0m \u001b[0morder\u001b[0m\u001b[1;33m=\u001b[0m\u001b[0morder\u001b[0m\u001b[1;33m,\u001b[0m \u001b[0mdtype\u001b[0m\u001b[1;33m=\u001b[0m\u001b[0mdtype\u001b[0m\u001b[1;33m)\u001b[0m\u001b[1;33m\u001b[0m\u001b[1;33m\u001b[0m\u001b[0m\n\u001b[0m\u001b[0;32m    381\u001b[0m \u001b[1;33m\u001b[0m\u001b[0m\n\u001b[0;32m    382\u001b[0m         \u001b[1;31m# At this point array is a NumPy ndarray. We convert it to an array\u001b[0m\u001b[1;33m\u001b[0m\u001b[1;33m\u001b[0m\u001b[0m\n\u001b[0;32m    383\u001b[0m         \u001b[1;31m# container that is consistent with the input's namespace.\u001b[0m\u001b[1;33m\u001b[0m\u001b[1;33m\u001b[0m\u001b[0m\n",
      "\u001b[1;32mc:\\Users\\Administrator\\AppData\\Local\\Programs\\Python\\Python311\\Lib\\site-packages\\pandas\\core\\generic.py\u001b[0m in \u001b[0;36m?\u001b[1;34m(self, dtype)\u001b[0m\n\u001b[0;32m   2069\u001b[0m     \u001b[1;32mdef\u001b[0m \u001b[0m__array__\u001b[0m\u001b[1;33m(\u001b[0m\u001b[0mself\u001b[0m\u001b[1;33m,\u001b[0m \u001b[0mdtype\u001b[0m\u001b[1;33m:\u001b[0m \u001b[0mnpt\u001b[0m\u001b[1;33m.\u001b[0m\u001b[0mDTypeLike\u001b[0m \u001b[1;33m|\u001b[0m \u001b[1;32mNone\u001b[0m \u001b[1;33m=\u001b[0m \u001b[1;32mNone\u001b[0m\u001b[1;33m)\u001b[0m \u001b[1;33m->\u001b[0m \u001b[0mnp\u001b[0m\u001b[1;33m.\u001b[0m\u001b[0mndarray\u001b[0m\u001b[1;33m:\u001b[0m\u001b[1;33m\u001b[0m\u001b[1;33m\u001b[0m\u001b[0m\n\u001b[1;32m-> 2070\u001b[1;33m         \u001b[1;32mreturn\u001b[0m \u001b[0mnp\u001b[0m\u001b[1;33m.\u001b[0m\u001b[0masarray\u001b[0m\u001b[1;33m(\u001b[0m\u001b[0mself\u001b[0m\u001b[1;33m.\u001b[0m\u001b[0m_values\u001b[0m\u001b[1;33m,\u001b[0m \u001b[0mdtype\u001b[0m\u001b[1;33m=\u001b[0m\u001b[0mdtype\u001b[0m\u001b[1;33m)\u001b[0m\u001b[1;33m\u001b[0m\u001b[1;33m\u001b[0m\u001b[0m\n\u001b[0m",
      "\u001b[1;31mValueError\u001b[0m: could not convert string to float: 'male'"
     ]
    }
   ],
   "source": [
    "import pandas as pd\n",
    "from sklearn.linear_model import LinearRegression\n",
    "\n",
    "# Load the CSV file into a pandas DataFrame\n",
    "# Replace 'your_file.csv' with the actual path to your CSV file\n",
    "df = pd.read_csv('doggy-boot-harness.csv')\n",
    "\n",
    "# Take input from the user for the column name\n",
    "# column_name = input(\"Enter the name of the column to predict: \")\n",
    "column_name = \"harness_size\"\n",
    "\n",
    "# Ensure the column exists in the DataFrame\n",
    "if column_name in df.columns:\n",
    "    # Extract the chosen column as the target variable (y) for prediction\n",
    "    y = df[column_name]\n",
    "\n",
    "    # Remove the chosen column from the DataFrame to use the rest as input features (X)\n",
    "    X = df.drop(column_name, axis=1)\n",
    "\n",
    "    # Create and train the Linear Regression model\n",
    "    model = LinearRegression()\n",
    "    model.fit(X, y)\n",
    "\n",
    "    # Print the header of the chosen column\n",
    "    print(f\"Column '{column_name}' values and their predicted boot sizes:\")\n",
    "\n",
    "    # Iterate through each row in the DataFrame\n",
    "    for index, row in df.iterrows():\n",
    "        # Extract the harness_size value from the current row\n",
    "        input_harness_size = row['harness_size']\n",
    "\n",
    "        # Prepare the input data for prediction (a DataFrame with a single row)\n",
    "        harness_size = {'harness_size': [input_harness_size]}\n",
    "        input_data = pd.DataFrame(harness_size)\n",
    "\n",
    "        # Use the trained model to predict the boot size for the current harness_size\n",
    "        predicted_boot_size = model.predict(input_data)[0]\n",
    "\n",
    "        # Print the actual harness_size and the predicted boot size\n",
    "        print(f\"Harness Size: {input_harness_size}, Predicted Boot Size: {predicted_boot_size}\")\n",
    "else:\n",
    "    print(\"Column not found in the DataFrame.\")\n"
   ]
  },
  {
   "cell_type": "code",
   "execution_count": null,
   "metadata": {},
   "outputs": [],
   "source": []
  }
 ],
 "metadata": {
  "kernelspec": {
   "display_name": "Python 3",
   "language": "python",
   "name": "python3"
  },
  "language_info": {
   "codemirror_mode": {
    "name": "ipython",
    "version": 3
   },
   "file_extension": ".py",
   "mimetype": "text/x-python",
   "name": "python",
   "nbconvert_exporter": "python",
   "pygments_lexer": "ipython3",
   "version": "3.11.1 (tags/v3.11.1:a7a450f, Dec  6 2022, 19:58:39) [MSC v.1934 64 bit (AMD64)]"
  },
  "orig_nbformat": 4,
  "vscode": {
   "interpreter": {
    "hash": "ff4b1fca65a764b45acb559e482afe389d289dd599b9f8c5fd12ff5c2ea46a65"
   }
  }
 },
 "nbformat": 4,
 "nbformat_minor": 2
}
